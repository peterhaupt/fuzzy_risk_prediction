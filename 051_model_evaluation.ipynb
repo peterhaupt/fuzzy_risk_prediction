{
 "cells": [
  {
   "cell_type": "markdown",
   "metadata": {},
   "source": [
    "# Import section"
   ]
  },
  {
   "cell_type": "code",
   "execution_count": 4,
   "metadata": {
    "tags": [],
    "trusted": true
   },
   "outputs": [],
   "source": [
    "# Data handling\n",
    "import pandas as pd\n",
    "import numpy as np\n",
    "\n",
    "# Model evaluation and metrics\n",
    "from sklearn.metrics import accuracy_score, roc_auc_score, confusion_matrix, precision_score, recall_score\n",
    "\n",
    "# pyFUME and AUK\n",
    "from pyfume import SugenoFISTester\n",
    "from AUK import AUK\n",
    "\n",
    "# For saving/loading data\n",
    "import pickle\n",
    "import os"
   ]
  },
  {
   "cell_type": "markdown",
   "metadata": {},
   "source": [
    "# Data loading"
   ]
  },
  {
   "cell_type": "code",
   "execution_count": 5,
   "metadata": {},
   "outputs": [
    {
     "name": "stdout",
     "output_type": "stream",
     "text": [
      "Loaded dataframe from: feature_selection/test_df_all_drop_features_10_PRS.pkl\n"
     ]
    }
   ],
   "source": [
    "# Load best hyperparameters from pkl file\n",
    "best_hyperparameters = pd.read_pickle('model_training/best_hyperparameters.pkl')\n",
    "\n",
    "# Extract the first row from the 'params' column\n",
    "params_dict = best_hyperparameters['params'].iloc[0]\n",
    "\n",
    "# Ensure the 'params' column contains a dictionary\n",
    "if isinstance(params_dict, dict):\n",
    "    # Dynamically create variables from the dictionary keys\n",
    "    for key, value in params_dict.items():\n",
    "        locals()[key] = value\n",
    "\n",
    "    # Derive dataframe_name from the params_dict or directly from 'dataframe_name' key\n",
    "    if 'dataframe_name' in params_dict:\n",
    "        dataframe_name = params_dict['dataframe_name']\n",
    "\n",
    "        # Replace 'train' with 'test' in the dataframe name\n",
    "        dataframe_name = dataframe_name.replace('train', 'test', 1)\n",
    "\n",
    "        # Construct the .pkl file path\n",
    "        base_folder = 'feature_selection'\n",
    "        pkl_file_path = f'{base_folder}/{dataframe_name}.pkl'\n",
    "\n",
    "        # Load the test dataframe\n",
    "        test_df = pd.read_pickle(pkl_file_path)\n",
    "\n",
    "        # Print to verify\n",
    "        print(f\"Loaded dataframe from: {pkl_file_path}\")\n",
    "    else:\n",
    "        print(\"Error: 'dataframe_name' not found in params_dict.\")\n",
    "else:\n",
    "    print(\"Error: The 'params' column does not contain a dictionary.\")"
   ]
  },
  {
   "cell_type": "code",
   "execution_count": 6,
   "metadata": {
    "tags": [],
    "trusted": true
   },
   "outputs": [],
   "source": [
    "# drop extra columns that are not needed for the model\n",
    "df_test_clean = test_df.drop(columns=['eid', 'p130894', 'p130895', 'p53_i0'])\n",
    "\n",
    "# extract variable names\n",
    "variable_names = df_test_clean.drop(columns=['target']).columns.tolist()\n",
    "\n",
    "# Split the test data into features and ground truth\n",
    "X_test = df_test_clean.drop(columns=['target'])\n",
    "y_test = df_test_clean['target']\n",
    "\n",
    "# Convert X_test and y_test to NumPy arrays\n",
    "X_test = X_test.to_numpy()\n",
    "y_test = y_test.to_numpy()\n",
    "\n",
    "# Load the saved model\n",
    "with open('model_training/final_model.pkl', 'rb') as file:\n",
    "    loaded_model = pickle.load(file)\n",
    "    \n",
    "# Create a tester object to evaluate the model on the test data\n",
    "tester = SugenoFISTester(model=loaded_model, test_data=X_test, variable_names=variable_names, golden_standard=y_test)\n",
    "\n",
    "# Predict probabilities for the test data\n",
    "y_pred_proba = tester.predict()\n",
    "\n",
    "# Extract the first element of the tuple (the predicted probabilities)\n",
    "y_pred_proba = y_pred_proba[0]"
   ]
  },
  {
   "cell_type": "code",
   "execution_count": 7,
   "metadata": {
    "tags": [],
    "trusted": true
   },
   "outputs": [],
   "source": [
    "# Convert probabilities to binary predictions using a threshold (e.g., 0.5)\n",
    "y_pred = (y_pred_proba > 0.5).astype(int)"
   ]
  },
  {
   "cell_type": "code",
   "execution_count": 8,
   "metadata": {
    "tags": [],
    "trusted": true
   },
   "outputs": [],
   "source": [
    "# Ensure the index of y_pred_series matches df_test\n",
    "y_pred_series = pd.Series(y_pred, index=test_df.index, name='y_pred')\n",
    "y_pred_proba_series = pd.Series(y_pred_proba, index=test_df.index, name='y_pred_proba')\n",
    "\n",
    "# create copy of df_test\n",
    "\n",
    "df_test_incl_predictions = test_df.copy()\n",
    "\n",
    "# Insert the new columns after the 'target' column\n",
    "df_test_incl_predictions.insert(df_test_incl_predictions.columns.get_loc('target') + 1, 'y_pred', y_pred_series)\n",
    "df_test_incl_predictions.insert(df_test_incl_predictions.columns.get_loc('target') + 2, 'y_pred_proba', y_pred_proba_series)"
   ]
  },
  {
   "cell_type": "code",
   "execution_count": 9,
   "metadata": {
    "tags": [],
    "trusted": true
   },
   "outputs": [
    {
     "data": {
      "text/html": [
       "<div>\n",
       "<style scoped>\n",
       "    .dataframe tbody tr th:only-of-type {\n",
       "        vertical-align: middle;\n",
       "    }\n",
       "\n",
       "    .dataframe tbody tr th {\n",
       "        vertical-align: top;\n",
       "    }\n",
       "\n",
       "    .dataframe thead th {\n",
       "        text-align: right;\n",
       "    }\n",
       "</style>\n",
       "<table border=\"1\" class=\"dataframe\">\n",
       "  <thead>\n",
       "    <tr style=\"text-align: right;\">\n",
       "      <th></th>\n",
       "      <th>p26202</th>\n",
       "      <th>p26204</th>\n",
       "      <th>p26206</th>\n",
       "      <th>p26210</th>\n",
       "      <th>p26212</th>\n",
       "      <th>p26214</th>\n",
       "      <th>p26216</th>\n",
       "      <th>p26218</th>\n",
       "      <th>p26220</th>\n",
       "      <th>p26223</th>\n",
       "      <th>...</th>\n",
       "      <th>p130894</th>\n",
       "      <th>p130895</th>\n",
       "      <th>p53_i0</th>\n",
       "      <th>target</th>\n",
       "      <th>y_pred</th>\n",
       "      <th>y_pred_proba</th>\n",
       "      <th>eid</th>\n",
       "      <th>p130894</th>\n",
       "      <th>p130895</th>\n",
       "      <th>p53_i0</th>\n",
       "    </tr>\n",
       "  </thead>\n",
       "  <tbody>\n",
       "    <tr>\n",
       "      <th>126</th>\n",
       "      <td>1.351496</td>\n",
       "      <td>0.557301</td>\n",
       "      <td>-0.366124</td>\n",
       "      <td>0.634605</td>\n",
       "      <td>0.573798</td>\n",
       "      <td>-1.280260</td>\n",
       "      <td>1.155696</td>\n",
       "      <td>-0.398296</td>\n",
       "      <td>-0.169346</td>\n",
       "      <td>-0.236759</td>\n",
       "      <td>...</td>\n",
       "      <td>2022-05-09</td>\n",
       "      <td>Category_B</td>\n",
       "      <td>2008-10-29</td>\n",
       "      <td>1</td>\n",
       "      <td>1</td>\n",
       "      <td>0.530768</td>\n",
       "      <td>ID_127</td>\n",
       "      <td>2022-05-09</td>\n",
       "      <td>Category_B</td>\n",
       "      <td>2008-10-29</td>\n",
       "    </tr>\n",
       "    <tr>\n",
       "      <th>314</th>\n",
       "      <td>0.155567</td>\n",
       "      <td>-1.175251</td>\n",
       "      <td>0.819022</td>\n",
       "      <td>-0.009564</td>\n",
       "      <td>-1.494857</td>\n",
       "      <td>-0.604110</td>\n",
       "      <td>0.990320</td>\n",
       "      <td>1.524634</td>\n",
       "      <td>-1.309131</td>\n",
       "      <td>0.510042</td>\n",
       "      <td>...</td>\n",
       "      <td>2011-01-17</td>\n",
       "      <td>Category_A</td>\n",
       "      <td>2007-11-04</td>\n",
       "      <td>1</td>\n",
       "      <td>1</td>\n",
       "      <td>0.530768</td>\n",
       "      <td>ID_315</td>\n",
       "      <td>2011-01-17</td>\n",
       "      <td>Category_A</td>\n",
       "      <td>2007-11-04</td>\n",
       "    </tr>\n",
       "    <tr>\n",
       "      <th>267</th>\n",
       "      <td>-0.447638</td>\n",
       "      <td>1.684454</td>\n",
       "      <td>0.701990</td>\n",
       "      <td>0.502309</td>\n",
       "      <td>1.021844</td>\n",
       "      <td>1.462244</td>\n",
       "      <td>0.619248</td>\n",
       "      <td>0.431618</td>\n",
       "      <td>1.430214</td>\n",
       "      <td>-0.029087</td>\n",
       "      <td>...</td>\n",
       "      <td>2014-08-06</td>\n",
       "      <td>Category_E</td>\n",
       "      <td>2009-01-10</td>\n",
       "      <td>1</td>\n",
       "      <td>1</td>\n",
       "      <td>0.530768</td>\n",
       "      <td>ID_268</td>\n",
       "      <td>2014-08-06</td>\n",
       "      <td>Category_E</td>\n",
       "      <td>2009-01-10</td>\n",
       "    </tr>\n",
       "    <tr>\n",
       "      <th>282</th>\n",
       "      <td>1.649647</td>\n",
       "      <td>0.345852</td>\n",
       "      <td>0.844010</td>\n",
       "      <td>0.934727</td>\n",
       "      <td>0.918579</td>\n",
       "      <td>0.649313</td>\n",
       "      <td>-0.840977</td>\n",
       "      <td>0.214394</td>\n",
       "      <td>-0.549006</td>\n",
       "      <td>0.710424</td>\n",
       "      <td>...</td>\n",
       "      <td>2016-11-27</td>\n",
       "      <td>Category_A</td>\n",
       "      <td>2009-01-16</td>\n",
       "      <td>1</td>\n",
       "      <td>1</td>\n",
       "      <td>0.530768</td>\n",
       "      <td>ID_283</td>\n",
       "      <td>2016-11-27</td>\n",
       "      <td>Category_A</td>\n",
       "      <td>2009-01-16</td>\n",
       "    </tr>\n",
       "    <tr>\n",
       "      <th>496</th>\n",
       "      <td>0.006435</td>\n",
       "      <td>0.927515</td>\n",
       "      <td>-1.605575</td>\n",
       "      <td>-0.779584</td>\n",
       "      <td>1.279180</td>\n",
       "      <td>0.825457</td>\n",
       "      <td>-0.631817</td>\n",
       "      <td>-0.281542</td>\n",
       "      <td>-1.703244</td>\n",
       "      <td>0.456854</td>\n",
       "      <td>...</td>\n",
       "      <td>2016-11-16</td>\n",
       "      <td>Category_C</td>\n",
       "      <td>2009-06-01</td>\n",
       "      <td>1</td>\n",
       "      <td>1</td>\n",
       "      <td>0.530768</td>\n",
       "      <td>ID_497</td>\n",
       "      <td>2016-11-16</td>\n",
       "      <td>Category_C</td>\n",
       "      <td>2009-06-01</td>\n",
       "    </tr>\n",
       "  </tbody>\n",
       "</table>\n",
       "<p>5 rows × 57 columns</p>\n",
       "</div>"
      ],
      "text/plain": [
       "       p26202    p26204    p26206    p26210    p26212    p26214    p26216  \\\n",
       "126  1.351496  0.557301 -0.366124  0.634605  0.573798 -1.280260  1.155696   \n",
       "314  0.155567 -1.175251  0.819022 -0.009564 -1.494857 -0.604110  0.990320   \n",
       "267 -0.447638  1.684454  0.701990  0.502309  1.021844  1.462244  0.619248   \n",
       "282  1.649647  0.345852  0.844010  0.934727  0.918579  0.649313 -0.840977   \n",
       "496  0.006435  0.927515 -1.605575 -0.779584  1.279180  0.825457 -0.631817   \n",
       "\n",
       "       p26218    p26220    p26223  ...    p130894     p130895     p53_i0  \\\n",
       "126 -0.398296 -0.169346 -0.236759  ... 2022-05-09  Category_B 2008-10-29   \n",
       "314  1.524634 -1.309131  0.510042  ... 2011-01-17  Category_A 2007-11-04   \n",
       "267  0.431618  1.430214 -0.029087  ... 2014-08-06  Category_E 2009-01-10   \n",
       "282  0.214394 -0.549006  0.710424  ... 2016-11-27  Category_A 2009-01-16   \n",
       "496 -0.281542 -1.703244  0.456854  ... 2016-11-16  Category_C 2009-06-01   \n",
       "\n",
       "     target  y_pred  y_pred_proba     eid    p130894     p130895     p53_i0  \n",
       "126       1       1      0.530768  ID_127 2022-05-09  Category_B 2008-10-29  \n",
       "314       1       1      0.530768  ID_315 2011-01-17  Category_A 2007-11-04  \n",
       "267       1       1      0.530768  ID_268 2014-08-06  Category_E 2009-01-10  \n",
       "282       1       1      0.530768  ID_283 2016-11-27  Category_A 2009-01-16  \n",
       "496       1       1      0.530768  ID_497 2016-11-16  Category_C 2009-06-01  \n",
       "\n",
       "[5 rows x 57 columns]"
      ]
     },
     "execution_count": 9,
     "metadata": {},
     "output_type": "execute_result"
    }
   ],
   "source": [
    "df_test_incl_predictions.head()"
   ]
  },
  {
   "cell_type": "markdown",
   "metadata": {},
   "source": [
    "# Calculate Metrics"
   ]
  },
  {
   "cell_type": "code",
   "execution_count": 10,
   "metadata": {
    "tags": [],
    "trusted": true
   },
   "outputs": [
    {
     "name": "stdout",
     "output_type": "stream",
     "text": [
      "0.498\n",
      "0.4838957423318773\n"
     ]
    }
   ],
   "source": [
    "# Calculate accuracy and AUC\n",
    "accuracy = accuracy_score(y_test, y_pred)\n",
    "auc = roc_auc_score(y_test, y_pred_proba)\n",
    "print(accuracy)\n",
    "print(auc)"
   ]
  },
  {
   "cell_type": "code",
   "execution_count": 11,
   "metadata": {
    "tags": [],
    "trusted": true
   },
   "outputs": [],
   "source": [
    "# Calculate the confusion matrix\n",
    "conf_matrix = confusion_matrix(y_test, y_pred)\n",
    "confusion_matrix_df = pd.DataFrame(conf_matrix, \n",
    "                                   index=['Actual 0', 'Actual 1'], \n",
    "                                   columns=['Predicted 0', 'Predicted 1'])"
   ]
  },
  {
   "cell_type": "code",
   "execution_count": 12,
   "metadata": {
    "tags": [],
    "trusted": true
   },
   "outputs": [
    {
     "data": {
      "text/html": [
       "<div>\n",
       "<style scoped>\n",
       "    .dataframe tbody tr th:only-of-type {\n",
       "        vertical-align: middle;\n",
       "    }\n",
       "\n",
       "    .dataframe tbody tr th {\n",
       "        vertical-align: top;\n",
       "    }\n",
       "\n",
       "    .dataframe thead th {\n",
       "        text-align: right;\n",
       "    }\n",
       "</style>\n",
       "<table border=\"1\" class=\"dataframe\">\n",
       "  <thead>\n",
       "    <tr style=\"text-align: right;\">\n",
       "      <th></th>\n",
       "      <th>Predicted 0</th>\n",
       "      <th>Predicted 1</th>\n",
       "    </tr>\n",
       "  </thead>\n",
       "  <tbody>\n",
       "    <tr>\n",
       "      <th>Actual 0</th>\n",
       "      <td>0</td>\n",
       "      <td>251</td>\n",
       "    </tr>\n",
       "    <tr>\n",
       "      <th>Actual 1</th>\n",
       "      <td>0</td>\n",
       "      <td>249</td>\n",
       "    </tr>\n",
       "  </tbody>\n",
       "</table>\n",
       "</div>"
      ],
      "text/plain": [
       "          Predicted 0  Predicted 1\n",
       "Actual 0            0          251\n",
       "Actual 1            0          249"
      ]
     },
     "execution_count": 12,
     "metadata": {},
     "output_type": "execute_result"
    }
   ],
   "source": [
    "confusion_matrix_df.head()"
   ]
  },
  {
   "cell_type": "code",
   "execution_count": 13,
   "metadata": {
    "tags": [],
    "trusted": true
   },
   "outputs": [
    {
     "name": "stdout",
     "output_type": "stream",
     "text": [
      "Precision: 0.498\n",
      "Recall: 1.0\n"
     ]
    }
   ],
   "source": [
    "# Calculate precision and recall\n",
    "precision = precision_score(y_test, y_pred)\n",
    "recall = recall_score(y_test, y_pred)\n",
    "\n",
    "print(f'Precision: {precision}')\n",
    "print(f'Recall: {recall}')"
   ]
  },
  {
   "cell_type": "code",
   "execution_count": 14,
   "metadata": {
    "tags": [],
    "trusted": true
   },
   "outputs": [
    {
     "name": "stdout",
     "output_type": "stream",
     "text": [
      "-0.016119494665006975\n"
     ]
    }
   ],
   "source": [
    "# calculate AUK\n",
    "auk_class = AUK(probabilities=y_pred_proba, labels=y_test)\n",
    "        \n",
    "# Calculate AUK\n",
    "auk = auk_class.calculate_auk()\n",
    "print(auk)"
   ]
  },
  {
   "cell_type": "code",
   "execution_count": 15,
   "metadata": {
    "tags": [],
    "trusted": true
   },
   "outputs": [],
   "source": [
    "# replace columns names \n",
    "\n",
    "# Dictionary for mapping old column names to new names\n",
    "column_mapping = {\n",
    "    'p2090_i0_Yes': 'Seen doctor (GP) for nerves, anxiety, tension or depression | Yes',\n",
    "    'p2090_i0_No': 'Seen doctor (GP) for nerves, anxiety, tension or depression | No',\n",
    "    'p2100_i0_No': 'Seen a psychiatrist for nerves, anxiety, tension or depression | No',\n",
    "    'p1920_i0_Yes': 'Mood swings | Yes',\n",
    "    'p1960_i0_No': 'Fed-up feelings | No',\n",
    "    'p1920_i0_No': 'Mood swings | No',\n",
    "    'p137_i0': 'Number of treatments/medications taken',\n",
    "    'p2100_i0_Yes': 'Seen a psychiatrist for nerves, anxiety, tension or depression | Yes',\n",
    "    'p2050_i0_Not_at_all': 'Frequency of depressed mood in last 2 weeks | Not at all',\n",
    "    'p1980_i0_Yes': 'Worrier / anxious feelings | Yes'\n",
    "}\n",
    "\n",
    "# Rename columns in the DataFrame using the mapping\n",
    "df_test_incl_predictions.rename(columns=column_mapping, inplace=True)"
   ]
  },
  {
   "cell_type": "code",
   "execution_count": 16,
   "metadata": {
    "tags": [],
    "trusted": true
   },
   "outputs": [
    {
     "data": {
      "text/html": [
       "<div>\n",
       "<style scoped>\n",
       "    .dataframe tbody tr th:only-of-type {\n",
       "        vertical-align: middle;\n",
       "    }\n",
       "\n",
       "    .dataframe tbody tr th {\n",
       "        vertical-align: top;\n",
       "    }\n",
       "\n",
       "    .dataframe thead th {\n",
       "        text-align: right;\n",
       "    }\n",
       "</style>\n",
       "<table border=\"1\" class=\"dataframe\">\n",
       "  <thead>\n",
       "    <tr style=\"text-align: right;\">\n",
       "      <th></th>\n",
       "      <th>p26202</th>\n",
       "      <th>p26204</th>\n",
       "      <th>p26206</th>\n",
       "      <th>p26210</th>\n",
       "      <th>p26212</th>\n",
       "      <th>p26214</th>\n",
       "      <th>p26216</th>\n",
       "      <th>p26218</th>\n",
       "      <th>p26220</th>\n",
       "      <th>p26223</th>\n",
       "      <th>...</th>\n",
       "      <th>p130894</th>\n",
       "      <th>p130895</th>\n",
       "      <th>p53_i0</th>\n",
       "      <th>target</th>\n",
       "      <th>y_pred</th>\n",
       "      <th>y_pred_proba</th>\n",
       "      <th>eid</th>\n",
       "      <th>p130894</th>\n",
       "      <th>p130895</th>\n",
       "      <th>p53_i0</th>\n",
       "    </tr>\n",
       "  </thead>\n",
       "  <tbody>\n",
       "    <tr>\n",
       "      <th>359</th>\n",
       "      <td>0.414352</td>\n",
       "      <td>-0.905098</td>\n",
       "      <td>1.501626</td>\n",
       "      <td>-1.597734</td>\n",
       "      <td>0.877157</td>\n",
       "      <td>1.663080</td>\n",
       "      <td>-0.684997</td>\n",
       "      <td>-1.105091</td>\n",
       "      <td>-0.831605</td>\n",
       "      <td>0.155338</td>\n",
       "      <td>...</td>\n",
       "      <td>2011-06-08</td>\n",
       "      <td>Category_E</td>\n",
       "      <td>2008-10-06</td>\n",
       "      <td>0</td>\n",
       "      <td>1</td>\n",
       "      <td>0.530768</td>\n",
       "      <td>ID_360</td>\n",
       "      <td>2011-06-08</td>\n",
       "      <td>Category_E</td>\n",
       "      <td>2008-10-06</td>\n",
       "    </tr>\n",
       "    <tr>\n",
       "      <th>435</th>\n",
       "      <td>1.403901</td>\n",
       "      <td>-0.217397</td>\n",
       "      <td>1.078440</td>\n",
       "      <td>1.225851</td>\n",
       "      <td>-1.254674</td>\n",
       "      <td>-1.605330</td>\n",
       "      <td>1.389621</td>\n",
       "      <td>-0.659947</td>\n",
       "      <td>0.152197</td>\n",
       "      <td>-1.047258</td>\n",
       "      <td>...</td>\n",
       "      <td>2017-08-22</td>\n",
       "      <td>Category_E</td>\n",
       "      <td>2008-09-05</td>\n",
       "      <td>0</td>\n",
       "      <td>1</td>\n",
       "      <td>0.530768</td>\n",
       "      <td>ID_436</td>\n",
       "      <td>2017-08-22</td>\n",
       "      <td>Category_E</td>\n",
       "      <td>2008-09-05</td>\n",
       "    </tr>\n",
       "    <tr>\n",
       "      <th>321</th>\n",
       "      <td>-0.016384</td>\n",
       "      <td>-0.237620</td>\n",
       "      <td>-0.880448</td>\n",
       "      <td>-0.658492</td>\n",
       "      <td>1.545168</td>\n",
       "      <td>-0.571544</td>\n",
       "      <td>1.819331</td>\n",
       "      <td>0.713031</td>\n",
       "      <td>-0.370547</td>\n",
       "      <td>-0.007350</td>\n",
       "      <td>...</td>\n",
       "      <td>2022-10-16</td>\n",
       "      <td>Category_D</td>\n",
       "      <td>2010-01-09</td>\n",
       "      <td>0</td>\n",
       "      <td>1</td>\n",
       "      <td>0.530768</td>\n",
       "      <td>ID_322</td>\n",
       "      <td>2022-10-16</td>\n",
       "      <td>Category_D</td>\n",
       "      <td>2010-01-09</td>\n",
       "    </tr>\n",
       "    <tr>\n",
       "      <th>6</th>\n",
       "      <td>-0.438363</td>\n",
       "      <td>1.014340</td>\n",
       "      <td>-0.342376</td>\n",
       "      <td>1.143688</td>\n",
       "      <td>-0.688061</td>\n",
       "      <td>1.189627</td>\n",
       "      <td>-0.516373</td>\n",
       "      <td>-0.424982</td>\n",
       "      <td>-0.285170</td>\n",
       "      <td>-0.600122</td>\n",
       "      <td>...</td>\n",
       "      <td>2009-04-25</td>\n",
       "      <td>Category_A</td>\n",
       "      <td>2008-05-25</td>\n",
       "      <td>0</td>\n",
       "      <td>1</td>\n",
       "      <td>0.530768</td>\n",
       "      <td>ID_7</td>\n",
       "      <td>2009-04-25</td>\n",
       "      <td>Category_A</td>\n",
       "      <td>2008-05-25</td>\n",
       "    </tr>\n",
       "    <tr>\n",
       "      <th>272</th>\n",
       "      <td>-1.590879</td>\n",
       "      <td>0.177807</td>\n",
       "      <td>-1.032322</td>\n",
       "      <td>-0.143212</td>\n",
       "      <td>-0.700782</td>\n",
       "      <td>-0.932963</td>\n",
       "      <td>-0.026424</td>\n",
       "      <td>-0.737831</td>\n",
       "      <td>-0.240465</td>\n",
       "      <td>-0.339874</td>\n",
       "      <td>...</td>\n",
       "      <td>2018-10-20</td>\n",
       "      <td>Category_B</td>\n",
       "      <td>2007-05-15</td>\n",
       "      <td>0</td>\n",
       "      <td>1</td>\n",
       "      <td>0.530768</td>\n",
       "      <td>ID_273</td>\n",
       "      <td>2018-10-20</td>\n",
       "      <td>Category_B</td>\n",
       "      <td>2007-05-15</td>\n",
       "    </tr>\n",
       "  </tbody>\n",
       "</table>\n",
       "<p>5 rows × 57 columns</p>\n",
       "</div>"
      ],
      "text/plain": [
       "       p26202    p26204    p26206    p26210    p26212    p26214    p26216  \\\n",
       "359  0.414352 -0.905098  1.501626 -1.597734  0.877157  1.663080 -0.684997   \n",
       "435  1.403901 -0.217397  1.078440  1.225851 -1.254674 -1.605330  1.389621   \n",
       "321 -0.016384 -0.237620 -0.880448 -0.658492  1.545168 -0.571544  1.819331   \n",
       "6   -0.438363  1.014340 -0.342376  1.143688 -0.688061  1.189627 -0.516373   \n",
       "272 -1.590879  0.177807 -1.032322 -0.143212 -0.700782 -0.932963 -0.026424   \n",
       "\n",
       "       p26218    p26220    p26223  ...    p130894     p130895     p53_i0  \\\n",
       "359 -1.105091 -0.831605  0.155338  ... 2011-06-08  Category_E 2008-10-06   \n",
       "435 -0.659947  0.152197 -1.047258  ... 2017-08-22  Category_E 2008-09-05   \n",
       "321  0.713031 -0.370547 -0.007350  ... 2022-10-16  Category_D 2010-01-09   \n",
       "6   -0.424982 -0.285170 -0.600122  ... 2009-04-25  Category_A 2008-05-25   \n",
       "272 -0.737831 -0.240465 -0.339874  ... 2018-10-20  Category_B 2007-05-15   \n",
       "\n",
       "     target  y_pred  y_pred_proba     eid    p130894     p130895     p53_i0  \n",
       "359       0       1      0.530768  ID_360 2011-06-08  Category_E 2008-10-06  \n",
       "435       0       1      0.530768  ID_436 2017-08-22  Category_E 2008-09-05  \n",
       "321       0       1      0.530768  ID_322 2022-10-16  Category_D 2010-01-09  \n",
       "6         0       1      0.530768    ID_7 2009-04-25  Category_A 2008-05-25  \n",
       "272       0       1      0.530768  ID_273 2018-10-20  Category_B 2007-05-15  \n",
       "\n",
       "[5 rows x 57 columns]"
      ]
     },
     "execution_count": 16,
     "metadata": {},
     "output_type": "execute_result"
    }
   ],
   "source": [
    "# check false positives\n",
    "# Filter df_test_incl_predictions for rows where y_pred is 1 and target is 0\n",
    "false_positives = df_test_incl_predictions[(df_test_incl_predictions['y_pred'] == 1) & \n",
    "                                       (df_test_incl_predictions['target'] == 0)]\n",
    "\n",
    "false_positives.head(5)"
   ]
  },
  {
   "cell_type": "code",
   "execution_count": 17,
   "metadata": {
    "tags": [],
    "trusted": true
   },
   "outputs": [],
   "source": [
    "# Filtered DataFrames for true positives and false positives\n",
    "true_positives = df_test_incl_predictions[(df_test_incl_predictions['y_pred'] == 1) & (df_test_incl_predictions['target'] == 1)]\n",
    "false_positives = df_test_incl_predictions[(df_test_incl_predictions['y_pred'] == 1) & (df_test_incl_predictions['target'] == 0)]\n",
    "\n",
    "# Calculating mean and standard deviation for the first ten columns\n",
    "mean_std_true_positives = true_positives.iloc[:, :10].agg(['mean', 'std'])\n",
    "mean_std_false_positives = false_positives.iloc[:, :10].agg(['mean', 'std'])"
   ]
  },
  {
   "cell_type": "code",
   "execution_count": 18,
   "metadata": {
    "tags": [],
    "trusted": true
   },
   "outputs": [
    {
     "data": {
      "text/html": [
       "<div>\n",
       "<style scoped>\n",
       "    .dataframe tbody tr th:only-of-type {\n",
       "        vertical-align: middle;\n",
       "    }\n",
       "\n",
       "    .dataframe tbody tr th {\n",
       "        vertical-align: top;\n",
       "    }\n",
       "\n",
       "    .dataframe thead th {\n",
       "        text-align: right;\n",
       "    }\n",
       "</style>\n",
       "<table border=\"1\" class=\"dataframe\">\n",
       "  <thead>\n",
       "    <tr style=\"text-align: right;\">\n",
       "      <th></th>\n",
       "      <th>p26202</th>\n",
       "      <th>p26204</th>\n",
       "      <th>p26206</th>\n",
       "      <th>p26210</th>\n",
       "      <th>p26212</th>\n",
       "      <th>p26214</th>\n",
       "      <th>p26216</th>\n",
       "      <th>p26218</th>\n",
       "      <th>p26220</th>\n",
       "      <th>p26223</th>\n",
       "    </tr>\n",
       "  </thead>\n",
       "  <tbody>\n",
       "    <tr>\n",
       "      <th>mean</th>\n",
       "      <td>-0.071980</td>\n",
       "      <td>0.019291</td>\n",
       "      <td>-0.058668</td>\n",
       "      <td>-0.042271</td>\n",
       "      <td>0.059728</td>\n",
       "      <td>0.011819</td>\n",
       "      <td>0.114139</td>\n",
       "      <td>0.078503</td>\n",
       "      <td>-0.040459</td>\n",
       "      <td>-0.039488</td>\n",
       "    </tr>\n",
       "    <tr>\n",
       "      <th>std</th>\n",
       "      <td>1.070397</td>\n",
       "      <td>0.998436</td>\n",
       "      <td>1.029158</td>\n",
       "      <td>0.982983</td>\n",
       "      <td>1.022331</td>\n",
       "      <td>0.940814</td>\n",
       "      <td>1.018468</td>\n",
       "      <td>0.981425</td>\n",
       "      <td>0.948349</td>\n",
       "      <td>1.044390</td>\n",
       "    </tr>\n",
       "  </tbody>\n",
       "</table>\n",
       "</div>"
      ],
      "text/plain": [
       "        p26202    p26204    p26206    p26210    p26212    p26214    p26216  \\\n",
       "mean -0.071980  0.019291 -0.058668 -0.042271  0.059728  0.011819  0.114139   \n",
       "std   1.070397  0.998436  1.029158  0.982983  1.022331  0.940814  1.018468   \n",
       "\n",
       "        p26218    p26220    p26223  \n",
       "mean  0.078503 -0.040459 -0.039488  \n",
       "std   0.981425  0.948349  1.044390  "
      ]
     },
     "execution_count": 18,
     "metadata": {},
     "output_type": "execute_result"
    }
   ],
   "source": [
    "mean_std_true_positives.head()"
   ]
  },
  {
   "cell_type": "code",
   "execution_count": 19,
   "metadata": {
    "tags": [],
    "trusted": true
   },
   "outputs": [
    {
     "data": {
      "text/html": [
       "<div>\n",
       "<style scoped>\n",
       "    .dataframe tbody tr th:only-of-type {\n",
       "        vertical-align: middle;\n",
       "    }\n",
       "\n",
       "    .dataframe tbody tr th {\n",
       "        vertical-align: top;\n",
       "    }\n",
       "\n",
       "    .dataframe thead th {\n",
       "        text-align: right;\n",
       "    }\n",
       "</style>\n",
       "<table border=\"1\" class=\"dataframe\">\n",
       "  <thead>\n",
       "    <tr style=\"text-align: right;\">\n",
       "      <th></th>\n",
       "      <th>p26202</th>\n",
       "      <th>p26204</th>\n",
       "      <th>p26206</th>\n",
       "      <th>p26210</th>\n",
       "      <th>p26212</th>\n",
       "      <th>p26214</th>\n",
       "      <th>p26216</th>\n",
       "      <th>p26218</th>\n",
       "      <th>p26220</th>\n",
       "      <th>p26223</th>\n",
       "    </tr>\n",
       "  </thead>\n",
       "  <tbody>\n",
       "    <tr>\n",
       "      <th>mean</th>\n",
       "      <td>-0.082529</td>\n",
       "      <td>0.037473</td>\n",
       "      <td>-0.042791</td>\n",
       "      <td>-0.083189</td>\n",
       "      <td>-0.072676</td>\n",
       "      <td>-0.056275</td>\n",
       "      <td>0.090147</td>\n",
       "      <td>-0.058848</td>\n",
       "      <td>-0.030073</td>\n",
       "      <td>-0.094678</td>\n",
       "    </tr>\n",
       "    <tr>\n",
       "      <th>std</th>\n",
       "      <td>1.010149</td>\n",
       "      <td>1.049509</td>\n",
       "      <td>0.991384</td>\n",
       "      <td>1.029776</td>\n",
       "      <td>0.975519</td>\n",
       "      <td>0.955827</td>\n",
       "      <td>1.023628</td>\n",
       "      <td>1.025980</td>\n",
       "      <td>0.943549</td>\n",
       "      <td>1.067135</td>\n",
       "    </tr>\n",
       "  </tbody>\n",
       "</table>\n",
       "</div>"
      ],
      "text/plain": [
       "        p26202    p26204    p26206    p26210    p26212    p26214    p26216  \\\n",
       "mean -0.082529  0.037473 -0.042791 -0.083189 -0.072676 -0.056275  0.090147   \n",
       "std   1.010149  1.049509  0.991384  1.029776  0.975519  0.955827  1.023628   \n",
       "\n",
       "        p26218    p26220    p26223  \n",
       "mean -0.058848 -0.030073 -0.094678  \n",
       "std   1.025980  0.943549  1.067135  "
      ]
     },
     "execution_count": 19,
     "metadata": {},
     "output_type": "execute_result"
    }
   ],
   "source": [
    "mean_std_false_positives.head()"
   ]
  },
  {
   "cell_type": "markdown",
   "metadata": {},
   "source": [
    "# export predictions and ground truth"
   ]
  },
  {
   "cell_type": "code",
   "execution_count": 20,
   "metadata": {},
   "outputs": [
    {
     "name": "stdout",
     "output_type": "stream",
     "text": [
      "Folder 'model_evaluation' created.\n"
     ]
    }
   ],
   "source": [
    "# Define the folder path\n",
    "folder_name = \"model_evaluation\"\n",
    "\n",
    "# Check if the folder exists, if not, create it\n",
    "if not os.path.exists(folder_name):\n",
    "    os.makedirs(folder_name)\n",
    "    print(f\"Folder '{folder_name}' created.\")\n",
    "else:\n",
    "    print(f\"Folder '{folder_name}' already exists.\")"
   ]
  },
  {
   "cell_type": "code",
   "execution_count": 21,
   "metadata": {
    "tags": [],
    "trusted": true
   },
   "outputs": [],
   "source": [
    "# export predictions\n",
    "np.savez('model_evaluation/predictions.npz', y_pred=y_pred, y_pred_proba=y_pred_proba, y_test=y_test)"
   ]
  }
 ],
 "metadata": {
  "kernelspec": {
   "display_name": "FRP311",
   "language": "python",
   "name": "python3"
  },
  "language_info": {
   "codemirror_mode": {
    "name": "ipython",
    "version": 3
   },
   "file_extension": ".py",
   "mimetype": "text/x-python",
   "name": "python",
   "nbconvert_exporter": "python",
   "pygments_lexer": "ipython3",
   "version": "3.11.9"
  }
 },
 "nbformat": 4,
 "nbformat_minor": 4
}
