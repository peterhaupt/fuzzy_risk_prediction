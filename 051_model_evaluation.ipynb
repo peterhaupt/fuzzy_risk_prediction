{
 "cells": [
  {
   "cell_type": "markdown",
   "metadata": {},
   "source": [
    "# Import section"
   ]
  },
  {
   "cell_type": "code",
   "execution_count": 1,
   "metadata": {
    "tags": [],
    "trusted": true
   },
   "outputs": [],
   "source": [
    "# Data handling\n",
    "import pandas as pd\n",
    "import numpy as np\n",
    "\n",
    "# Model evaluation and metrics\n",
    "from sklearn.metrics import accuracy_score, roc_auc_score, confusion_matrix, precision_score, recall_score\n",
    "\n",
    "# pyFUME and AUK\n",
    "from pyfume import SugenoFISTester\n",
    "from AUK import AUK\n",
    "\n",
    "# For saving/loading data\n",
    "import pickle\n",
    "import os"
   ]
  },
  {
   "cell_type": "markdown",
   "metadata": {},
   "source": [
    "# Data loading"
   ]
  },
  {
   "cell_type": "code",
   "execution_count": 2,
   "metadata": {},
   "outputs": [
    {
     "name": "stdout",
     "output_type": "stream",
     "text": [
      "Loaded dataframe from: feature_selection/test_df_all_features_10.pkl\n"
     ]
    }
   ],
   "source": [
    "# Load best hyperparameters from pkl file\n",
    "best_hyperparameters = pd.read_pickle('model_training/best_hyperparameters.pkl')\n",
    "\n",
    "# Extract the first row from the 'params' column\n",
    "params_dict = best_hyperparameters['params'].iloc[0]\n",
    "\n",
    "# Ensure the 'params' column contains a dictionary\n",
    "if isinstance(params_dict, dict):\n",
    "    # Dynamically create variables from the dictionary keys\n",
    "    for key, value in params_dict.items():\n",
    "        locals()[key] = value\n",
    "\n",
    "    # Derive dataframe_name from the params_dict or directly from 'dataframe_name' key\n",
    "    if 'dataframe_name' in params_dict:\n",
    "        dataframe_name = params_dict['dataframe_name']\n",
    "\n",
    "        # Replace 'train' with 'test' in the dataframe name\n",
    "        dataframe_name = dataframe_name.replace('train', 'test', 1)\n",
    "\n",
    "        # Construct the .pkl file path\n",
    "        base_folder = 'feature_selection'\n",
    "        pkl_file_path = f'{base_folder}/{dataframe_name}.pkl'\n",
    "\n",
    "        # Load the test dataframe\n",
    "        test_df = pd.read_pickle(pkl_file_path)\n",
    "\n",
    "        # Print to verify\n",
    "        print(f\"Loaded dataframe from: {pkl_file_path}\")\n",
    "    else:\n",
    "        print(\"Error: 'dataframe_name' not found in params_dict.\")\n",
    "else:\n",
    "    print(\"Error: The 'params' column does not contain a dictionary.\")"
   ]
  },
  {
   "cell_type": "code",
   "execution_count": 3,
   "metadata": {
    "tags": [],
    "trusted": true
   },
   "outputs": [
    {
     "name": "stdout",
     "output_type": "stream",
     "text": [
      "WARNING: the sum of rules' firing for variable 'OUTPUT' is equal to 0. The result of the Sugeno inference was set to 0.\n",
      "WARNING: the sum of rules' firing for variable 'OUTPUT' is equal to 0. The result of the Sugeno inference was set to 0.\n",
      "WARNING: the sum of rules' firing for variable 'OUTPUT' is equal to 0. The result of the Sugeno inference was set to 0.\n",
      "WARNING: the sum of rules' firing for variable 'OUTPUT' is equal to 0. The result of the Sugeno inference was set to 0.\n"
     ]
    }
   ],
   "source": [
    "# drop extra columns that are not needed for the model\n",
    "df_test_clean = test_df.drop(columns=['eid', 'p130894', 'p130895', 'p53_i0'])\n",
    "\n",
    "# extract variable names\n",
    "variable_names = df_test_clean.drop(columns=['target']).columns.tolist()\n",
    "\n",
    "# Split the test data into features and ground truth\n",
    "X_test = df_test_clean.drop(columns=['target'])\n",
    "y_test = df_test_clean['target']\n",
    "\n",
    "# Convert X_test and y_test to NumPy arrays\n",
    "X_test = X_test.to_numpy()\n",
    "y_test = y_test.to_numpy()\n",
    "\n",
    "# Load the saved model\n",
    "with open('model_training/final_model.pkl', 'rb') as file:\n",
    "    loaded_model = pickle.load(file)\n",
    "    \n",
    "# Create a tester object to evaluate the model on the test data\n",
    "tester = SugenoFISTester(model=loaded_model, test_data=X_test, variable_names=variable_names, golden_standard=y_test)\n",
    "\n",
    "# Predict probabilities for the test data\n",
    "y_pred_proba = tester.predict()\n",
    "\n",
    "# Extract the first element of the tuple (the predicted probabilities)\n",
    "y_pred_proba = y_pred_proba[0]"
   ]
  },
  {
   "cell_type": "code",
   "execution_count": 4,
   "metadata": {
    "tags": [],
    "trusted": true
   },
   "outputs": [],
   "source": [
    "# Convert probabilities to binary predictions using a threshold (e.g., 0.5)\n",
    "y_pred = (y_pred_proba > 0.5).astype(int)"
   ]
  },
  {
   "cell_type": "code",
   "execution_count": 5,
   "metadata": {
    "tags": [],
    "trusted": true
   },
   "outputs": [],
   "source": [
    "# Ensure the index of y_pred_series matches df_test\n",
    "y_pred_series = pd.Series(y_pred, index=test_df.index, name='y_pred')\n",
    "y_pred_proba_series = pd.Series(y_pred_proba, index=test_df.index, name='y_pred_proba')\n",
    "\n",
    "# create copy of df_test\n",
    "\n",
    "df_test_incl_predictions = test_df.copy()\n",
    "\n",
    "# Insert the new columns after the 'target' column\n",
    "df_test_incl_predictions.insert(df_test_incl_predictions.columns.get_loc('target') + 1, 'y_pred', y_pred_series)\n",
    "df_test_incl_predictions.insert(df_test_incl_predictions.columns.get_loc('target') + 2, 'y_pred_proba', y_pred_proba_series)"
   ]
  },
  {
   "cell_type": "code",
   "execution_count": 6,
   "metadata": {
    "tags": [],
    "trusted": true
   },
   "outputs": [
    {
     "data": {
      "text/html": [
       "<div>\n",
       "<style scoped>\n",
       "    .dataframe tbody tr th:only-of-type {\n",
       "        vertical-align: middle;\n",
       "    }\n",
       "\n",
       "    .dataframe tbody tr th {\n",
       "        vertical-align: top;\n",
       "    }\n",
       "\n",
       "    .dataframe thead th {\n",
       "        text-align: right;\n",
       "    }\n",
       "</style>\n",
       "<table border=\"1\" class=\"dataframe\">\n",
       "  <thead>\n",
       "    <tr style=\"text-align: right;\">\n",
       "      <th></th>\n",
       "      <th>p728_i0_Category_B</th>\n",
       "      <th>p1200_i0_Category_E</th>\n",
       "      <th>p10895_i0_Category_E</th>\n",
       "      <th>p6222_i0</th>\n",
       "      <th>p4041_i0_Category_B</th>\n",
       "      <th>p6148_i0_Category_E</th>\n",
       "      <th>p3506_i0_Category_E</th>\n",
       "      <th>p1418_i0_Category_B</th>\n",
       "      <th>p4295_i0_Category_E</th>\n",
       "      <th>p1598_i0_Category_C</th>\n",
       "      <th>target</th>\n",
       "      <th>y_pred</th>\n",
       "      <th>y_pred_proba</th>\n",
       "      <th>eid</th>\n",
       "      <th>p130894</th>\n",
       "      <th>p130895</th>\n",
       "      <th>p53_i0</th>\n",
       "    </tr>\n",
       "  </thead>\n",
       "  <tbody>\n",
       "    <tr>\n",
       "      <th>23</th>\n",
       "      <td>0.0</td>\n",
       "      <td>0.0</td>\n",
       "      <td>0.0</td>\n",
       "      <td>-0.120863</td>\n",
       "      <td>0.0</td>\n",
       "      <td>1.0</td>\n",
       "      <td>0.0</td>\n",
       "      <td>0.0</td>\n",
       "      <td>0.0</td>\n",
       "      <td>0.0</td>\n",
       "      <td>0</td>\n",
       "      <td>1</td>\n",
       "      <td>0.623272</td>\n",
       "      <td>ID_24</td>\n",
       "      <td>2012-03-28</td>\n",
       "      <td>Category_E</td>\n",
       "      <td>2009-02-16</td>\n",
       "    </tr>\n",
       "    <tr>\n",
       "      <th>67</th>\n",
       "      <td>0.0</td>\n",
       "      <td>0.0</td>\n",
       "      <td>0.0</td>\n",
       "      <td>0.986363</td>\n",
       "      <td>0.0</td>\n",
       "      <td>0.0</td>\n",
       "      <td>0.0</td>\n",
       "      <td>0.0</td>\n",
       "      <td>0.0</td>\n",
       "      <td>0.0</td>\n",
       "      <td>0</td>\n",
       "      <td>1</td>\n",
       "      <td>0.528376</td>\n",
       "      <td>ID_68</td>\n",
       "      <td>2010-06-18</td>\n",
       "      <td>Category_D</td>\n",
       "      <td>2009-05-01</td>\n",
       "    </tr>\n",
       "    <tr>\n",
       "      <th>81</th>\n",
       "      <td>0.0</td>\n",
       "      <td>0.0</td>\n",
       "      <td>0.0</td>\n",
       "      <td>0.959394</td>\n",
       "      <td>0.0</td>\n",
       "      <td>0.0</td>\n",
       "      <td>0.0</td>\n",
       "      <td>0.0</td>\n",
       "      <td>0.0</td>\n",
       "      <td>0.0</td>\n",
       "      <td>1</td>\n",
       "      <td>1</td>\n",
       "      <td>0.528376</td>\n",
       "      <td>ID_82</td>\n",
       "      <td>2019-01-11</td>\n",
       "      <td>Category_C</td>\n",
       "      <td>2007-05-09</td>\n",
       "    </tr>\n",
       "    <tr>\n",
       "      <th>590</th>\n",
       "      <td>0.0</td>\n",
       "      <td>0.0</td>\n",
       "      <td>0.0</td>\n",
       "      <td>0.235234</td>\n",
       "      <td>0.0</td>\n",
       "      <td>0.0</td>\n",
       "      <td>0.0</td>\n",
       "      <td>0.0</td>\n",
       "      <td>0.0</td>\n",
       "      <td>1.0</td>\n",
       "      <td>1</td>\n",
       "      <td>1</td>\n",
       "      <td>0.504860</td>\n",
       "      <td>ID_591</td>\n",
       "      <td>2019-05-19</td>\n",
       "      <td>Category_E</td>\n",
       "      <td>2007-03-03</td>\n",
       "    </tr>\n",
       "    <tr>\n",
       "      <th>383</th>\n",
       "      <td>0.0</td>\n",
       "      <td>0.0</td>\n",
       "      <td>0.0</td>\n",
       "      <td>-0.377298</td>\n",
       "      <td>0.0</td>\n",
       "      <td>0.0</td>\n",
       "      <td>0.0</td>\n",
       "      <td>0.0</td>\n",
       "      <td>0.0</td>\n",
       "      <td>0.0</td>\n",
       "      <td>0</td>\n",
       "      <td>0</td>\n",
       "      <td>0.481396</td>\n",
       "      <td>ID_384</td>\n",
       "      <td>2014-09-11</td>\n",
       "      <td>Category_C</td>\n",
       "      <td>2007-04-21</td>\n",
       "    </tr>\n",
       "  </tbody>\n",
       "</table>\n",
       "</div>"
      ],
      "text/plain": [
       "     p728_i0_Category_B  p1200_i0_Category_E  p10895_i0_Category_E  p6222_i0  \\\n",
       "23                  0.0                  0.0                   0.0 -0.120863   \n",
       "67                  0.0                  0.0                   0.0  0.986363   \n",
       "81                  0.0                  0.0                   0.0  0.959394   \n",
       "590                 0.0                  0.0                   0.0  0.235234   \n",
       "383                 0.0                  0.0                   0.0 -0.377298   \n",
       "\n",
       "     p4041_i0_Category_B  p6148_i0_Category_E  p3506_i0_Category_E  \\\n",
       "23                   0.0                  1.0                  0.0   \n",
       "67                   0.0                  0.0                  0.0   \n",
       "81                   0.0                  0.0                  0.0   \n",
       "590                  0.0                  0.0                  0.0   \n",
       "383                  0.0                  0.0                  0.0   \n",
       "\n",
       "     p1418_i0_Category_B  p4295_i0_Category_E  p1598_i0_Category_C  target  \\\n",
       "23                   0.0                  0.0                  0.0       0   \n",
       "67                   0.0                  0.0                  0.0       0   \n",
       "81                   0.0                  0.0                  0.0       1   \n",
       "590                  0.0                  0.0                  1.0       1   \n",
       "383                  0.0                  0.0                  0.0       0   \n",
       "\n",
       "     y_pred  y_pred_proba     eid    p130894     p130895     p53_i0  \n",
       "23        1      0.623272   ID_24 2012-03-28  Category_E 2009-02-16  \n",
       "67        1      0.528376   ID_68 2010-06-18  Category_D 2009-05-01  \n",
       "81        1      0.528376   ID_82 2019-01-11  Category_C 2007-05-09  \n",
       "590       1      0.504860  ID_591 2019-05-19  Category_E 2007-03-03  \n",
       "383       0      0.481396  ID_384 2014-09-11  Category_C 2007-04-21  "
      ]
     },
     "execution_count": 6,
     "metadata": {},
     "output_type": "execute_result"
    }
   ],
   "source": [
    "df_test_incl_predictions.head()"
   ]
  },
  {
   "cell_type": "markdown",
   "metadata": {},
   "source": [
    "# Calculate Metrics"
   ]
  },
  {
   "cell_type": "code",
   "execution_count": 7,
   "metadata": {
    "tags": [],
    "trusted": true
   },
   "outputs": [
    {
     "name": "stdout",
     "output_type": "stream",
     "text": [
      "0.6396694214876033\n",
      "0.7409350518622259\n"
     ]
    }
   ],
   "source": [
    "# Calculate accuracy and AUC\n",
    "accuracy = accuracy_score(y_test, y_pred)\n",
    "auc = roc_auc_score(y_test, y_pred_proba)\n",
    "print(accuracy)\n",
    "print(auc)"
   ]
  },
  {
   "cell_type": "code",
   "execution_count": 8,
   "metadata": {
    "tags": [],
    "trusted": true
   },
   "outputs": [],
   "source": [
    "# Calculate the confusion matrix\n",
    "conf_matrix = confusion_matrix(y_test, y_pred)\n",
    "confusion_matrix_df = pd.DataFrame(conf_matrix, \n",
    "                                   index=['Actual 0', 'Actual 1'], \n",
    "                                   columns=['Predicted 0', 'Predicted 1'])"
   ]
  },
  {
   "cell_type": "code",
   "execution_count": 9,
   "metadata": {
    "tags": [],
    "trusted": true
   },
   "outputs": [
    {
     "data": {
      "text/html": [
       "<div>\n",
       "<style scoped>\n",
       "    .dataframe tbody tr th:only-of-type {\n",
       "        vertical-align: middle;\n",
       "    }\n",
       "\n",
       "    .dataframe tbody tr th {\n",
       "        vertical-align: top;\n",
       "    }\n",
       "\n",
       "    .dataframe thead th {\n",
       "        text-align: right;\n",
       "    }\n",
       "</style>\n",
       "<table border=\"1\" class=\"dataframe\">\n",
       "  <thead>\n",
       "    <tr style=\"text-align: right;\">\n",
       "      <th></th>\n",
       "      <th>Predicted 0</th>\n",
       "      <th>Predicted 1</th>\n",
       "    </tr>\n",
       "  </thead>\n",
       "  <tbody>\n",
       "    <tr>\n",
       "      <th>Actual 0</th>\n",
       "      <td>214</td>\n",
       "      <td>99</td>\n",
       "    </tr>\n",
       "    <tr>\n",
       "      <th>Actual 1</th>\n",
       "      <td>119</td>\n",
       "      <td>173</td>\n",
       "    </tr>\n",
       "  </tbody>\n",
       "</table>\n",
       "</div>"
      ],
      "text/plain": [
       "          Predicted 0  Predicted 1\n",
       "Actual 0          214           99\n",
       "Actual 1          119          173"
      ]
     },
     "execution_count": 9,
     "metadata": {},
     "output_type": "execute_result"
    }
   ],
   "source": [
    "confusion_matrix_df.head()"
   ]
  },
  {
   "cell_type": "code",
   "execution_count": 10,
   "metadata": {
    "tags": [],
    "trusted": true
   },
   "outputs": [
    {
     "name": "stdout",
     "output_type": "stream",
     "text": [
      "Precision: 0.6360294117647058\n",
      "Recall: 0.5924657534246576\n"
     ]
    }
   ],
   "source": [
    "# Calculate precision and recall\n",
    "precision = precision_score(y_test, y_pred)\n",
    "recall = recall_score(y_test, y_pred)\n",
    "\n",
    "print(f'Precision: {precision}')\n",
    "print(f'Recall: {recall}')"
   ]
  },
  {
   "cell_type": "code",
   "execution_count": 11,
   "metadata": {
    "tags": [],
    "trusted": true
   },
   "outputs": [
    {
     "name": "stdout",
     "output_type": "stream",
     "text": [
      "0.23940794100573437\n"
     ]
    }
   ],
   "source": [
    "# calculate AUK\n",
    "auk_class = AUK(probabilities=y_pred_proba, labels=y_test)\n",
    "        \n",
    "# Calculate AUK\n",
    "auk = auk_class.calculate_auk()\n",
    "print(auk)"
   ]
  },
  {
   "cell_type": "code",
   "execution_count": 12,
   "metadata": {
    "tags": [],
    "trusted": true
   },
   "outputs": [],
   "source": [
    "# replace columns names \n",
    "\n",
    "# Dictionary for mapping old column names to new names\n",
    "column_mapping = {\n",
    "    'p2090_i0_Yes': 'Seen doctor (GP) for nerves, anxiety, tension or depression | Yes',\n",
    "    'p2090_i0_No': 'Seen doctor (GP) for nerves, anxiety, tension or depression | No',\n",
    "    'p2100_i0_No': 'Seen a psychiatrist for nerves, anxiety, tension or depression | No',\n",
    "    'p1920_i0_Yes': 'Mood swings | Yes',\n",
    "    'p1960_i0_No': 'Fed-up feelings | No',\n",
    "    'p1920_i0_No': 'Mood swings | No',\n",
    "    'p137_i0': 'Number of treatments/medications taken',\n",
    "    'p2100_i0_Yes': 'Seen a psychiatrist for nerves, anxiety, tension or depression | Yes',\n",
    "    'p2050_i0_Not_at_all': 'Frequency of depressed mood in last 2 weeks | Not at all',\n",
    "    'p1980_i0_Yes': 'Worrier / anxious feelings | Yes'\n",
    "}\n",
    "\n",
    "# Rename columns in the DataFrame using the mapping\n",
    "df_test_incl_predictions.rename(columns=column_mapping, inplace=True)"
   ]
  },
  {
   "cell_type": "code",
   "execution_count": 13,
   "metadata": {
    "tags": [],
    "trusted": true
   },
   "outputs": [
    {
     "data": {
      "text/html": [
       "<div>\n",
       "<style scoped>\n",
       "    .dataframe tbody tr th:only-of-type {\n",
       "        vertical-align: middle;\n",
       "    }\n",
       "\n",
       "    .dataframe tbody tr th {\n",
       "        vertical-align: top;\n",
       "    }\n",
       "\n",
       "    .dataframe thead th {\n",
       "        text-align: right;\n",
       "    }\n",
       "</style>\n",
       "<table border=\"1\" class=\"dataframe\">\n",
       "  <thead>\n",
       "    <tr style=\"text-align: right;\">\n",
       "      <th></th>\n",
       "      <th>p728_i0_Category_B</th>\n",
       "      <th>p1200_i0_Category_E</th>\n",
       "      <th>p10895_i0_Category_E</th>\n",
       "      <th>p6222_i0</th>\n",
       "      <th>p4041_i0_Category_B</th>\n",
       "      <th>p6148_i0_Category_E</th>\n",
       "      <th>p3506_i0_Category_E</th>\n",
       "      <th>p1418_i0_Category_B</th>\n",
       "      <th>p4295_i0_Category_E</th>\n",
       "      <th>p1598_i0_Category_C</th>\n",
       "      <th>target</th>\n",
       "      <th>y_pred</th>\n",
       "      <th>y_pred_proba</th>\n",
       "      <th>eid</th>\n",
       "      <th>p130894</th>\n",
       "      <th>p130895</th>\n",
       "      <th>p53_i0</th>\n",
       "    </tr>\n",
       "  </thead>\n",
       "  <tbody>\n",
       "    <tr>\n",
       "      <th>23</th>\n",
       "      <td>0.0</td>\n",
       "      <td>0.0</td>\n",
       "      <td>0.0</td>\n",
       "      <td>-0.120863</td>\n",
       "      <td>0.0</td>\n",
       "      <td>1.0</td>\n",
       "      <td>0.0</td>\n",
       "      <td>0.0</td>\n",
       "      <td>0.0</td>\n",
       "      <td>0.0</td>\n",
       "      <td>0</td>\n",
       "      <td>1</td>\n",
       "      <td>0.623272</td>\n",
       "      <td>ID_24</td>\n",
       "      <td>2012-03-28</td>\n",
       "      <td>Category_E</td>\n",
       "      <td>2009-02-16</td>\n",
       "    </tr>\n",
       "    <tr>\n",
       "      <th>67</th>\n",
       "      <td>0.0</td>\n",
       "      <td>0.0</td>\n",
       "      <td>0.0</td>\n",
       "      <td>0.986363</td>\n",
       "      <td>0.0</td>\n",
       "      <td>0.0</td>\n",
       "      <td>0.0</td>\n",
       "      <td>0.0</td>\n",
       "      <td>0.0</td>\n",
       "      <td>0.0</td>\n",
       "      <td>0</td>\n",
       "      <td>1</td>\n",
       "      <td>0.528376</td>\n",
       "      <td>ID_68</td>\n",
       "      <td>2010-06-18</td>\n",
       "      <td>Category_D</td>\n",
       "      <td>2009-05-01</td>\n",
       "    </tr>\n",
       "    <tr>\n",
       "      <th>355</th>\n",
       "      <td>0.0</td>\n",
       "      <td>0.0</td>\n",
       "      <td>0.0</td>\n",
       "      <td>-0.896725</td>\n",
       "      <td>0.0</td>\n",
       "      <td>1.0</td>\n",
       "      <td>0.0</td>\n",
       "      <td>0.0</td>\n",
       "      <td>0.0</td>\n",
       "      <td>1.0</td>\n",
       "      <td>0</td>\n",
       "      <td>1</td>\n",
       "      <td>0.629303</td>\n",
       "      <td>ID_356</td>\n",
       "      <td>2019-08-31</td>\n",
       "      <td>Category_D</td>\n",
       "      <td>2010-09-04</td>\n",
       "    </tr>\n",
       "    <tr>\n",
       "      <th>196</th>\n",
       "      <td>0.0</td>\n",
       "      <td>0.0</td>\n",
       "      <td>0.0</td>\n",
       "      <td>1.563542</td>\n",
       "      <td>0.0</td>\n",
       "      <td>0.0</td>\n",
       "      <td>0.0</td>\n",
       "      <td>0.0</td>\n",
       "      <td>0.0</td>\n",
       "      <td>1.0</td>\n",
       "      <td>0</td>\n",
       "      <td>1</td>\n",
       "      <td>0.597583</td>\n",
       "      <td>ID_197</td>\n",
       "      <td>2012-03-20</td>\n",
       "      <td>Category_C</td>\n",
       "      <td>2008-11-27</td>\n",
       "    </tr>\n",
       "    <tr>\n",
       "      <th>347</th>\n",
       "      <td>0.0</td>\n",
       "      <td>0.0</td>\n",
       "      <td>0.0</td>\n",
       "      <td>-2.216768</td>\n",
       "      <td>0.0</td>\n",
       "      <td>0.0</td>\n",
       "      <td>0.0</td>\n",
       "      <td>0.0</td>\n",
       "      <td>0.0</td>\n",
       "      <td>0.0</td>\n",
       "      <td>0</td>\n",
       "      <td>1</td>\n",
       "      <td>0.516054</td>\n",
       "      <td>ID_348</td>\n",
       "      <td>2016-12-13</td>\n",
       "      <td>Category_E</td>\n",
       "      <td>2009-12-13</td>\n",
       "    </tr>\n",
       "  </tbody>\n",
       "</table>\n",
       "</div>"
      ],
      "text/plain": [
       "     p728_i0_Category_B  p1200_i0_Category_E  p10895_i0_Category_E  p6222_i0  \\\n",
       "23                  0.0                  0.0                   0.0 -0.120863   \n",
       "67                  0.0                  0.0                   0.0  0.986363   \n",
       "355                 0.0                  0.0                   0.0 -0.896725   \n",
       "196                 0.0                  0.0                   0.0  1.563542   \n",
       "347                 0.0                  0.0                   0.0 -2.216768   \n",
       "\n",
       "     p4041_i0_Category_B  p6148_i0_Category_E  p3506_i0_Category_E  \\\n",
       "23                   0.0                  1.0                  0.0   \n",
       "67                   0.0                  0.0                  0.0   \n",
       "355                  0.0                  1.0                  0.0   \n",
       "196                  0.0                  0.0                  0.0   \n",
       "347                  0.0                  0.0                  0.0   \n",
       "\n",
       "     p1418_i0_Category_B  p4295_i0_Category_E  p1598_i0_Category_C  target  \\\n",
       "23                   0.0                  0.0                  0.0       0   \n",
       "67                   0.0                  0.0                  0.0       0   \n",
       "355                  0.0                  0.0                  1.0       0   \n",
       "196                  0.0                  0.0                  1.0       0   \n",
       "347                  0.0                  0.0                  0.0       0   \n",
       "\n",
       "     y_pred  y_pred_proba     eid    p130894     p130895     p53_i0  \n",
       "23        1      0.623272   ID_24 2012-03-28  Category_E 2009-02-16  \n",
       "67        1      0.528376   ID_68 2010-06-18  Category_D 2009-05-01  \n",
       "355       1      0.629303  ID_356 2019-08-31  Category_D 2010-09-04  \n",
       "196       1      0.597583  ID_197 2012-03-20  Category_C 2008-11-27  \n",
       "347       1      0.516054  ID_348 2016-12-13  Category_E 2009-12-13  "
      ]
     },
     "execution_count": 13,
     "metadata": {},
     "output_type": "execute_result"
    }
   ],
   "source": [
    "# check false positives\n",
    "# Filter df_test_incl_predictions for rows where y_pred is 1 and target is 0\n",
    "false_positives = df_test_incl_predictions[(df_test_incl_predictions['y_pred'] == 1) & \n",
    "                                       (df_test_incl_predictions['target'] == 0)]\n",
    "\n",
    "false_positives.head(5)"
   ]
  },
  {
   "cell_type": "code",
   "execution_count": 14,
   "metadata": {
    "tags": [],
    "trusted": true
   },
   "outputs": [],
   "source": [
    "# Filtered DataFrames for true positives and false positives\n",
    "true_positives = df_test_incl_predictions[(df_test_incl_predictions['y_pred'] == 1) & (df_test_incl_predictions['target'] == 1)]\n",
    "false_positives = df_test_incl_predictions[(df_test_incl_predictions['y_pred'] == 1) & (df_test_incl_predictions['target'] == 0)]\n",
    "\n",
    "# Calculating mean and standard deviation for the first ten columns\n",
    "mean_std_true_positives = true_positives.iloc[:, :10].agg(['mean', 'std'])\n",
    "mean_std_false_positives = false_positives.iloc[:, :10].agg(['mean', 'std'])"
   ]
  },
  {
   "cell_type": "code",
   "execution_count": 15,
   "metadata": {
    "tags": [],
    "trusted": true
   },
   "outputs": [
    {
     "data": {
      "text/html": [
       "<div>\n",
       "<style scoped>\n",
       "    .dataframe tbody tr th:only-of-type {\n",
       "        vertical-align: middle;\n",
       "    }\n",
       "\n",
       "    .dataframe tbody tr th {\n",
       "        vertical-align: top;\n",
       "    }\n",
       "\n",
       "    .dataframe thead th {\n",
       "        text-align: right;\n",
       "    }\n",
       "</style>\n",
       "<table border=\"1\" class=\"dataframe\">\n",
       "  <thead>\n",
       "    <tr style=\"text-align: right;\">\n",
       "      <th></th>\n",
       "      <th>p728_i0_Category_B</th>\n",
       "      <th>p1200_i0_Category_E</th>\n",
       "      <th>p10895_i0_Category_E</th>\n",
       "      <th>p6222_i0</th>\n",
       "      <th>p4041_i0_Category_B</th>\n",
       "      <th>p6148_i0_Category_E</th>\n",
       "      <th>p3506_i0_Category_E</th>\n",
       "      <th>p1418_i0_Category_B</th>\n",
       "      <th>p4295_i0_Category_E</th>\n",
       "      <th>p1598_i0_Category_C</th>\n",
       "    </tr>\n",
       "  </thead>\n",
       "  <tbody>\n",
       "    <tr>\n",
       "      <th>mean</th>\n",
       "      <td>0.161850</td>\n",
       "      <td>0.0</td>\n",
       "      <td>0.0</td>\n",
       "      <td>0.215111</td>\n",
       "      <td>0.156069</td>\n",
       "      <td>0.300578</td>\n",
       "      <td>0.0</td>\n",
       "      <td>0.167630</td>\n",
       "      <td>0.0</td>\n",
       "      <td>0.306358</td>\n",
       "    </tr>\n",
       "    <tr>\n",
       "      <th>std</th>\n",
       "      <td>0.369382</td>\n",
       "      <td>0.0</td>\n",
       "      <td>0.0</td>\n",
       "      <td>1.000239</td>\n",
       "      <td>0.363975</td>\n",
       "      <td>0.459840</td>\n",
       "      <td>0.0</td>\n",
       "      <td>0.374622</td>\n",
       "      <td>0.0</td>\n",
       "      <td>0.462319</td>\n",
       "    </tr>\n",
       "  </tbody>\n",
       "</table>\n",
       "</div>"
      ],
      "text/plain": [
       "      p728_i0_Category_B  p1200_i0_Category_E  p10895_i0_Category_E  p6222_i0  \\\n",
       "mean            0.161850                  0.0                   0.0  0.215111   \n",
       "std             0.369382                  0.0                   0.0  1.000239   \n",
       "\n",
       "      p4041_i0_Category_B  p6148_i0_Category_E  p3506_i0_Category_E  \\\n",
       "mean             0.156069             0.300578                  0.0   \n",
       "std              0.363975             0.459840                  0.0   \n",
       "\n",
       "      p1418_i0_Category_B  p4295_i0_Category_E  p1598_i0_Category_C  \n",
       "mean             0.167630                  0.0             0.306358  \n",
       "std              0.374622                  0.0             0.462319  "
      ]
     },
     "execution_count": 15,
     "metadata": {},
     "output_type": "execute_result"
    }
   ],
   "source": [
    "mean_std_true_positives.head()"
   ]
  },
  {
   "cell_type": "code",
   "execution_count": 16,
   "metadata": {
    "tags": [],
    "trusted": true
   },
   "outputs": [
    {
     "data": {
      "text/html": [
       "<div>\n",
       "<style scoped>\n",
       "    .dataframe tbody tr th:only-of-type {\n",
       "        vertical-align: middle;\n",
       "    }\n",
       "\n",
       "    .dataframe tbody tr th {\n",
       "        vertical-align: top;\n",
       "    }\n",
       "\n",
       "    .dataframe thead th {\n",
       "        text-align: right;\n",
       "    }\n",
       "</style>\n",
       "<table border=\"1\" class=\"dataframe\">\n",
       "  <thead>\n",
       "    <tr style=\"text-align: right;\">\n",
       "      <th></th>\n",
       "      <th>p728_i0_Category_B</th>\n",
       "      <th>p1200_i0_Category_E</th>\n",
       "      <th>p10895_i0_Category_E</th>\n",
       "      <th>p6222_i0</th>\n",
       "      <th>p4041_i0_Category_B</th>\n",
       "      <th>p6148_i0_Category_E</th>\n",
       "      <th>p3506_i0_Category_E</th>\n",
       "      <th>p1418_i0_Category_B</th>\n",
       "      <th>p4295_i0_Category_E</th>\n",
       "      <th>p1598_i0_Category_C</th>\n",
       "    </tr>\n",
       "  </thead>\n",
       "  <tbody>\n",
       "    <tr>\n",
       "      <th>mean</th>\n",
       "      <td>0.0</td>\n",
       "      <td>0.0</td>\n",
       "      <td>0.0</td>\n",
       "      <td>-0.041901</td>\n",
       "      <td>0.0</td>\n",
       "      <td>0.444444</td>\n",
       "      <td>0.0</td>\n",
       "      <td>0.0</td>\n",
       "      <td>0.0</td>\n",
       "      <td>0.414141</td>\n",
       "    </tr>\n",
       "    <tr>\n",
       "      <th>std</th>\n",
       "      <td>0.0</td>\n",
       "      <td>0.0</td>\n",
       "      <td>0.0</td>\n",
       "      <td>1.197068</td>\n",
       "      <td>0.0</td>\n",
       "      <td>0.499433</td>\n",
       "      <td>0.0</td>\n",
       "      <td>0.0</td>\n",
       "      <td>0.0</td>\n",
       "      <td>0.495080</td>\n",
       "    </tr>\n",
       "  </tbody>\n",
       "</table>\n",
       "</div>"
      ],
      "text/plain": [
       "      p728_i0_Category_B  p1200_i0_Category_E  p10895_i0_Category_E  p6222_i0  \\\n",
       "mean                 0.0                  0.0                   0.0 -0.041901   \n",
       "std                  0.0                  0.0                   0.0  1.197068   \n",
       "\n",
       "      p4041_i0_Category_B  p6148_i0_Category_E  p3506_i0_Category_E  \\\n",
       "mean                  0.0             0.444444                  0.0   \n",
       "std                   0.0             0.499433                  0.0   \n",
       "\n",
       "      p1418_i0_Category_B  p4295_i0_Category_E  p1598_i0_Category_C  \n",
       "mean                  0.0                  0.0             0.414141  \n",
       "std                   0.0                  0.0             0.495080  "
      ]
     },
     "execution_count": 16,
     "metadata": {},
     "output_type": "execute_result"
    }
   ],
   "source": [
    "mean_std_false_positives.head()"
   ]
  },
  {
   "cell_type": "markdown",
   "metadata": {},
   "source": [
    "# export predictions and ground truth"
   ]
  },
  {
   "cell_type": "code",
   "execution_count": 17,
   "metadata": {},
   "outputs": [
    {
     "name": "stdout",
     "output_type": "stream",
     "text": [
      "Folder 'model_evaluation' created.\n"
     ]
    }
   ],
   "source": [
    "# Define the folder path\n",
    "folder_name = \"model_evaluation\"\n",
    "\n",
    "# Check if the folder exists, if not, create it\n",
    "if not os.path.exists(folder_name):\n",
    "    os.makedirs(folder_name)\n",
    "    print(f\"Folder '{folder_name}' created.\")\n",
    "else:\n",
    "    print(f\"Folder '{folder_name}' already exists.\")"
   ]
  },
  {
   "cell_type": "code",
   "execution_count": 18,
   "metadata": {
    "tags": [],
    "trusted": true
   },
   "outputs": [],
   "source": [
    "# export predictions\n",
    "np.savez('model_evaluation/predictions.npz', y_pred=y_pred, y_pred_proba=y_pred_proba, y_test=y_test)"
   ]
  }
 ],
 "metadata": {
  "kernelspec": {
   "display_name": "FRP31110",
   "language": "python",
   "name": "python3"
  },
  "language_info": {
   "codemirror_mode": {
    "name": "ipython",
    "version": 3
   },
   "file_extension": ".py",
   "mimetype": "text/x-python",
   "name": "python",
   "nbconvert_exporter": "python",
   "pygments_lexer": "ipython3",
   "version": "3.11.10"
  }
 },
 "nbformat": 4,
 "nbformat_minor": 4
}
