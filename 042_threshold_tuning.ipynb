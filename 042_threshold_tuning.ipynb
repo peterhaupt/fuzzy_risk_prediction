{
 "cells": [
  {
   "cell_type": "code",
   "execution_count": 1,
   "metadata": {
    "tags": [],
    "trusted": true
   },
   "outputs": [],
   "source": [
    "# import\n",
    "import pandas as pd\n",
    "import numpy as np\n",
    "from sklearn.model_selection import train_test_split\n",
    "from sklearn.metrics import accuracy_score, roc_auc_score\n",
    "from pyfume import Clustering\n",
    "from pyfume import AntecedentEstimator\n",
    "from pyfume import FireStrengthCalculator\n",
    "from pyfume import SugenoFISBuilder\n",
    "from pyfume import ConsequentEstimator\n",
    "from pyfume import SugenoFISTester\n",
    "from AUK import AUK\n",
    "import pickle"
   ]
  },
  {
   "cell_type": "code",
   "execution_count": 2,
   "metadata": {},
   "outputs": [
    {
     "data": {
      "text/plain": [
       "{'sample_size': 500,\n",
       " 'random_state': 2024,\n",
       " 'nr_clus': 7,\n",
       " 'mf_shape': 'sigmoid',\n",
       " 'merge_threshold': 1.0,\n",
       " 'm': 2.0,\n",
       " 'dataframe_name': 'train_df_all_drop_features_10_PRS',\n",
       " 'covariance_type': 'full',\n",
       " 'consequent_method': 'local_LSE',\n",
       " 'clustering_method': 'gk'}"
      ]
     },
     "execution_count": 2,
     "metadata": {},
     "output_type": "execute_result"
    }
   ],
   "source": [
    "# load best hyperparameters from pkl file into pandas dataframe\n",
    "\n",
    "best_hyperparameters = pd.read_pickle('model_training/best_hyperparameters.pkl')\n",
    "\n",
    "best_hyperparameters['params'].iloc[0]"
   ]
  },
  {
   "cell_type": "code",
   "execution_count": 3,
   "metadata": {
    "tags": [],
    "trusted": true
   },
   "outputs": [
    {
     "name": "stdout",
     "output_type": "stream",
     "text": [
      "sample_size: 500\n",
      "random_state: 2024\n",
      "nr_clus: 7\n",
      "mf_shape: sigmoid\n",
      "merge_threshold: 1.0\n",
      "m: 2.0\n",
      "dataframe_name: train_df_all_drop_features_10_PRS\n",
      "covariance_type: full\n",
      "consequent_method: local_LSE\n",
      "clustering_method: gk\n"
     ]
    }
   ],
   "source": [
    "# Extract the first row from the 'params' column\n",
    "params_dict = best_hyperparameters['params'].iloc[0] \n",
    "\n",
    "# Verify the type to ensure it's already a dictionary\n",
    "if isinstance(params_dict, dict):\n",
    "    # Dynamically create variables with names corresponding to the dictionary keys\n",
    "    for key, value in params_dict.items():\n",
    "        locals()[key] = value\n",
    "\n",
    "    # Print the variables to verify\n",
    "    for key in params_dict.keys():\n",
    "        print(f\"{key}: {locals()[key]}\")\n",
    "else:\n",
    "    print(\"Error: The 'params' column does not contain a dictionary.\")"
   ]
  },
  {
   "cell_type": "code",
   "execution_count": 4,
   "metadata": {
    "tags": [],
    "trusted": true
   },
   "outputs": [
    {
     "name": "stdout",
     "output_type": "stream",
     "text": [
      "Loaded dataframe from: feature_selection/train_df_all_drop_features_10_PRS.pkl\n"
     ]
    }
   ],
   "source": [
    "# Base folder for .pkl files\n",
    "base_folder = 'feature_selection'\n",
    "\n",
    "# Construct the full path\n",
    "pkl_file_path = f'{base_folder}/{dataframe_name}.pkl'\n",
    "\n",
    "# Load the dataframe and assign it to train_df\n",
    "train_df = pd.read_pickle(pkl_file_path)\n",
    "\n",
    "# Print to verify\n",
    "print(f\"Loaded dataframe from: {pkl_file_path}\")"
   ]
  },
  {
   "cell_type": "code",
   "execution_count": 5,
   "metadata": {
    "tags": [],
    "trusted": true
   },
   "outputs": [],
   "source": [
    "# Sample the dataframe\n",
    "df = train_df.sample(n=sample_size, random_state=random_state)\n",
    "\n",
    "# Split the data into features and target\n",
    "X = df.drop(columns=['target'])\n",
    "y = df['target']\n",
    "\n",
    "# Perform an 80/20 train-test split\n",
    "x_train, x_test, y_train, y_test = train_test_split(X, y, test_size=0.2, random_state=random_state)\n",
    "\n",
    "# Convert to NumPy arrays\n",
    "x_train = x_train.to_numpy()\n",
    "x_test = x_test.to_numpy()\n",
    "y_train = y_train.to_numpy()\n",
    "y_test = y_test.to_numpy()\n",
    "\n",
    "# Variable names for future steps\n",
    "variable_names = df.columns[:-1]"
   ]
  },
  {
   "cell_type": "code",
   "execution_count": 6,
   "metadata": {
    "tags": [],
    "trusted": true
   },
   "outputs": [],
   "source": [
    "# Create a Clusterer object and run clustering\n",
    "cl = Clustering.Clusterer(x_train=x_train, y_train=y_train, nr_clus=nr_clus)\n",
    "\n",
    "# Adjust the clustering method based on the parameters\n",
    "if clustering_method in ['fcm', 'fcm_binary', 'fst-pso', 'gk']:\n",
    "    # Pass the fuzziness coefficient m for these methods\n",
    "    cluster_centers, partition_matrix, _ = cl.cluster(method=clustering_method, m=m)\n",
    "elif clustering_method == 'gmm':\n",
    "    # Pass covariance_type for GMM\n",
    "    cluster_centers, partition_matrix, _ = cl.cluster(method=clustering_method, covariance_type=covariance_type)\n",
    "else:\n",
    "    # For other methods, run the clustering normally\n",
    "    cluster_centers, partition_matrix, _ = cl.cluster(method=clustering_method)"
   ]
  },
  {
   "cell_type": "code",
   "execution_count": 7,
   "metadata": {
    "tags": [],
    "trusted": true
   },
   "outputs": [
    {
     "name": "stdout",
     "output_type": "stream",
     "text": [
      "Failed to fit sigmoidal membership function, falling back to Gaussian.\n",
      "Failed to fit sigmoidal membership function, falling back to Gaussian.\n",
      "Failed to fit sigmoidal membership function, falling back to Gaussian.\n",
      "Failed to fit sigmoidal membership function, falling back to Gaussian.\n",
      "Failed to fit sigmoidal membership function, falling back to Gaussian.\n",
      "Failed to fit sigmoidal membership function, falling back to Gaussian.\n",
      "Failed to fit sigmoidal membership function, falling back to Gaussian.\n",
      "Failed to fit sigmoidal membership function, falling back to Gaussian.\n",
      "Failed to fit sigmoidal membership function, falling back to Gaussian.\n",
      "Failed to fit sigmoidal membership function, falling back to Gaussian.\n",
      "Failed to fit sigmoidal membership function, falling back to Gaussian.\n",
      "Failed to fit sigmoidal membership function, falling back to Gaussian.\n",
      "Failed to fit sigmoidal membership function, falling back to Gaussian.\n",
      "Failed to fit sigmoidal membership function, falling back to Gaussian.\n",
      "Failed to fit sigmoidal membership function, falling back to Gaussian.\n",
      "Failed to fit sigmoidal membership function, falling back to Gaussian.\n",
      "Failed to fit sigmoidal membership function, falling back to Gaussian.\n",
      "Failed to fit sigmoidal membership function, falling back to Gaussian.\n",
      "Failed to fit sigmoidal membership function, falling back to Gaussian.\n",
      "Failed to fit sigmoidal membership function, falling back to Gaussian.\n",
      "Failed to fit sigmoidal membership function, falling back to Gaussian.\n",
      "Failed to fit sigmoidal membership function, falling back to Gaussian.\n",
      "Failed to fit sigmoidal membership function, falling back to Gaussian.\n",
      "Failed to fit sigmoidal membership function, falling back to Gaussian.\n",
      "Failed to fit sigmoidal membership function, falling back to Gaussian.\n",
      "Failed to fit sigmoidal membership function, falling back to Gaussian.\n",
      "Failed to fit sigmoidal membership function, falling back to Gaussian.\n",
      "Failed to fit sigmoidal membership function, falling back to Gaussian.\n",
      "Failed to fit sigmoidal membership function, falling back to Gaussian.\n",
      "Failed to fit sigmoidal membership function, falling back to Gaussian.\n",
      "Failed to fit sigmoidal membership function, falling back to Gaussian.\n",
      "Failed to fit sigmoidal membership function, falling back to Gaussian.\n",
      "Failed to fit sigmoidal membership function, falling back to Gaussian.\n",
      "Failed to fit sigmoidal membership function, falling back to Gaussian.\n",
      "Failed to fit sigmoidal membership function, falling back to Gaussian.\n",
      "Failed to fit sigmoidal membership function, falling back to Gaussian.\n",
      "Failed to fit sigmoidal membership function, falling back to Gaussian.\n",
      "Failed to fit sigmoidal membership function, falling back to Gaussian.\n",
      "Failed to fit sigmoidal membership function, falling back to Gaussian.\n",
      "Failed to fit sigmoidal membership function, falling back to Gaussian.\n",
      "Failed to fit sigmoidal membership function, falling back to Gaussian.\n",
      "Failed to fit sigmoidal membership function, falling back to Gaussian.\n",
      "Failed to fit sigmoidal membership function, falling back to Gaussian.\n",
      "Failed to fit sigmoidal membership function, falling back to Gaussian.\n",
      "Failed to fit sigmoidal membership function, falling back to Gaussian.\n",
      "Failed to fit sigmoidal membership function, falling back to Gaussian.\n",
      "Failed to fit sigmoidal membership function, falling back to Gaussian.\n",
      "Failed to fit sigmoidal membership function, falling back to Gaussian.\n",
      "Failed to fit sigmoidal membership function, falling back to Gaussian.\n",
      "Failed to fit sigmoidal membership function, falling back to Gaussian.\n",
      "Failed to fit sigmoidal membership function, falling back to Gaussian.\n",
      "Failed to fit sigmoidal membership function, falling back to Gaussian.\n",
      "Failed to fit sigmoidal membership function, falling back to Gaussian.\n",
      "Failed to fit sigmoidal membership function, falling back to Gaussian.\n",
      "Failed to fit sigmoidal membership function, falling back to Gaussian.\n",
      "Failed to fit sigmoidal membership function, falling back to Gaussian.\n",
      "Failed to fit sigmoidal membership function, falling back to Gaussian.\n",
      "Failed to fit sigmoidal membership function, falling back to Gaussian.\n",
      "Failed to fit sigmoidal membership function, falling back to Gaussian.\n",
      "Failed to fit sigmoidal membership function, falling back to Gaussian.\n",
      "Failed to fit sigmoidal membership function, falling back to Gaussian.\n",
      "Failed to fit sigmoidal membership function, falling back to Gaussian.\n",
      "Failed to fit sigmoidal membership function, falling back to Gaussian.\n",
      "Failed to fit sigmoidal membership function, falling back to Gaussian.\n",
      "Failed to fit sigmoidal membership function, falling back to Gaussian.\n",
      "Failed to fit sigmoidal membership function, falling back to Gaussian.\n",
      "Failed to fit sigmoidal membership function, falling back to Gaussian.\n",
      "Failed to fit sigmoidal membership function, falling back to Gaussian.\n",
      "Failed to fit sigmoidal membership function, falling back to Gaussian.\n",
      "Failed to fit sigmoidal membership function, falling back to Gaussian.\n",
      "Failed to fit sigmoidal membership function, falling back to Gaussian.\n",
      "Failed to fit sigmoidal membership function, falling back to Gaussian.\n",
      "Failed to fit sigmoidal membership function, falling back to Gaussian.\n",
      "Failed to fit sigmoidal membership function, falling back to Gaussian.\n",
      "Failed to fit sigmoidal membership function, falling back to Gaussian.\n",
      "Failed to fit sigmoidal membership function, falling back to Gaussian.\n",
      "Failed to fit sigmoidal membership function, falling back to Gaussian.\n",
      "Failed to fit sigmoidal membership function, falling back to Gaussian.\n",
      "Failed to fit sigmoidal membership function, falling back to Gaussian.\n",
      "Failed to fit sigmoidal membership function, falling back to Gaussian.\n",
      "Failed to fit sigmoidal membership function, falling back to Gaussian.\n",
      "Failed to fit sigmoidal membership function, falling back to Gaussian.\n",
      "Failed to fit sigmoidal membership function, falling back to Gaussian.\n",
      "Failed to fit sigmoidal membership function, falling back to Gaussian.\n",
      "Failed to fit sigmoidal membership function, falling back to Gaussian.\n",
      "Failed to fit sigmoidal membership function, falling back to Gaussian.\n",
      "Failed to fit sigmoidal membership function, falling back to Gaussian.\n",
      "Failed to fit sigmoidal membership function, falling back to Gaussian.\n",
      "Failed to fit sigmoidal membership function, falling back to Gaussian.\n",
      "Failed to fit sigmoidal membership function, falling back to Gaussian.\n",
      "Failed to fit sigmoidal membership function, falling back to Gaussian.\n",
      "Failed to fit sigmoidal membership function, falling back to Gaussian.\n",
      "Failed to fit sigmoidal membership function, falling back to Gaussian.\n",
      "Failed to fit sigmoidal membership function, falling back to Gaussian.\n",
      "Failed to fit sigmoidal membership function, falling back to Gaussian.\n",
      "Failed to fit sigmoidal membership function, falling back to Gaussian.\n",
      "Failed to fit sigmoidal membership function, falling back to Gaussian.\n",
      "Failed to fit sigmoidal membership function, falling back to Gaussian.\n",
      "Failed to fit sigmoidal membership function, falling back to Gaussian.\n",
      "Failed to fit sigmoidal membership function, falling back to Gaussian.\n",
      "Failed to fit sigmoidal membership function, falling back to Gaussian.\n",
      "Failed to fit sigmoidal membership function, falling back to Gaussian.\n",
      "Failed to fit sigmoidal membership function, falling back to Gaussian.\n",
      "Failed to fit sigmoidal membership function, falling back to Gaussian.\n",
      "Failed to fit sigmoidal membership function, falling back to Gaussian.\n",
      "Failed to fit sigmoidal membership function, falling back to Gaussian.\n",
      "Failed to fit sigmoidal membership function, falling back to Gaussian.\n",
      "Failed to fit sigmoidal membership function, falling back to Gaussian.\n",
      "Failed to fit sigmoidal membership function, falling back to Gaussian.\n",
      "Failed to fit sigmoidal membership function, falling back to Gaussian.\n",
      "Failed to fit sigmoidal membership function, falling back to Gaussian.\n",
      "Failed to fit sigmoidal membership function, falling back to Gaussian.\n",
      "Failed to fit sigmoidal membership function, falling back to Gaussian.\n",
      "Failed to fit sigmoidal membership function, falling back to Gaussian.\n",
      "Failed to fit sigmoidal membership function, falling back to Gaussian.\n",
      "Failed to fit sigmoidal membership function, falling back to Gaussian.\n",
      "Failed to fit sigmoidal membership function, falling back to Gaussian.\n",
      "Failed to fit sigmoidal membership function, falling back to Gaussian.\n",
      "Failed to fit sigmoidal membership function, falling back to Gaussian.\n",
      "Failed to fit sigmoidal membership function, falling back to Gaussian.\n",
      "Failed to fit sigmoidal membership function, falling back to Gaussian.\n",
      "Failed to fit sigmoidal membership function, falling back to Gaussian.\n",
      "Failed to fit sigmoidal membership function, falling back to Gaussian.\n",
      "Failed to fit sigmoidal membership function, falling back to Gaussian.\n",
      "Failed to fit sigmoidal membership function, falling back to Gaussian.\n",
      "Failed to fit sigmoidal membership function, falling back to Gaussian.\n",
      "Failed to fit sigmoidal membership function, falling back to Gaussian.\n",
      "Failed to fit sigmoidal membership function, falling back to Gaussian.\n",
      "Failed to fit sigmoidal membership function, falling back to Gaussian.\n",
      "Failed to fit sigmoidal membership function, falling back to Gaussian.\n",
      "Failed to fit sigmoidal membership function, falling back to Gaussian.\n",
      "Failed to fit sigmoidal membership function, falling back to Gaussian.\n",
      "Failed to fit sigmoidal membership function, falling back to Gaussian.\n",
      "Failed to fit sigmoidal membership function, falling back to Gaussian.\n",
      "Failed to fit sigmoidal membership function, falling back to Gaussian.\n",
      "Failed to fit sigmoidal membership function, falling back to Gaussian.\n",
      "Failed to fit sigmoidal membership function, falling back to Gaussian.\n",
      "Failed to fit sigmoidal membership function, falling back to Gaussian.\n",
      "Failed to fit sigmoidal membership function, falling back to Gaussian.\n",
      "Failed to fit sigmoidal membership function, falling back to Gaussian.\n",
      "Failed to fit sigmoidal membership function, falling back to Gaussian.\n",
      "Failed to fit sigmoidal membership function, falling back to Gaussian.\n",
      "Failed to fit sigmoidal membership function, falling back to Gaussian.\n",
      "Failed to fit sigmoidal membership function, falling back to Gaussian.\n",
      "Failed to fit sigmoidal membership function, falling back to Gaussian.\n",
      "Failed to fit sigmoidal membership function, falling back to Gaussian.\n",
      "Failed to fit sigmoidal membership function, falling back to Gaussian.\n",
      "Failed to fit sigmoidal membership function, falling back to Gaussian.\n",
      "Failed to fit sigmoidal membership function, falling back to Gaussian.\n",
      "Failed to fit sigmoidal membership function, falling back to Gaussian.\n",
      "Failed to fit sigmoidal membership function, falling back to Gaussian.\n",
      "Failed to fit sigmoidal membership function, falling back to Gaussian.\n",
      "Failed to fit sigmoidal membership function, falling back to Gaussian.\n",
      "Failed to fit sigmoidal membership function, falling back to Gaussian.\n",
      "Failed to fit sigmoidal membership function, falling back to Gaussian.\n",
      "Failed to fit sigmoidal membership function, falling back to Gaussian.\n",
      "Failed to fit sigmoidal membership function, falling back to Gaussian.\n",
      "Failed to fit sigmoidal membership function, falling back to Gaussian.\n",
      "Failed to fit sigmoidal membership function, falling back to Gaussian.\n"
     ]
    }
   ],
   "source": [
    "# Estimate membership functions\n",
    "ae = AntecedentEstimator(x_train=x_train, partition_matrix=partition_matrix)\n",
    "antecedent_parameters = ae.determineMF(mf_shape=mf_shape, merge_threshold=merge_threshold)"
   ]
  },
  {
   "cell_type": "code",
   "execution_count": 8,
   "metadata": {
    "tags": [],
    "trusted": true
   },
   "outputs": [
    {
     "name": "stdout",
     "output_type": "stream",
     "text": [
      "Index(['p26202', 'p26204', 'p26206', 'p26210', 'p26212', 'p26214', 'p26216',\n",
      "       'p26218', 'p26220', 'p26223', 'p26225', 'p26227', 'p26229', 'p26232',\n",
      "       'p26234', 'p26238', 'p26240', 'p26242', 'p26244', 'p26246', 'p26248',\n",
      "       'p26250', 'p26252', 'p26254', 'p26258', 'p26260', 'p26265', 'p26267',\n",
      "       'p26269', 'p26273', 'p26275', 'p26278', 'p26283', 'p26285', 'p26287',\n",
      "       'p26289', 'p30190_i0', 'p2814_i0_Category_C', 'p23061_i0_Category_C',\n",
      "       'p2946_i0_Category_E', 'p738_i0_Category_D', 'p2877_i0_Category_E',\n",
      "       'p1940_i0_Category_D', 'p5496_i0_Category_B', 'p3090_i0_Category_D',\n",
      "       'p5001_i0_Category_E'],\n",
      "      dtype='object')\n"
     ]
    }
   ],
   "source": [
    "# Calculate firing strengths\n",
    "fsc = FireStrengthCalculator(antecedent_parameters=antecedent_parameters, nr_clus=nr_clus, variable_names=variable_names)\n",
    "firing_strengths = fsc.calculate_fire_strength(data=x_train)"
   ]
  },
  {
   "cell_type": "code",
   "execution_count": 9,
   "metadata": {
    "tags": [],
    "trusted": true
   },
   "outputs": [
    {
     "name": "stdout",
     "output_type": "stream",
     "text": [
      " * Detected 7 rules / clusters\n",
      " * Detected Sugeno model type\n"
     ]
    }
   ],
   "source": [
    "# Estimate consequent parameters\n",
    "\n",
    "ce = ConsequentEstimator(x_train=x_train, y_train=y_train, firing_strengths=firing_strengths)\n",
    "consequent_parameters = ce.zero_order(method=consequent_method)\n",
    "\n",
    "# Build the Sugeno FIS model\n",
    "simpbuilder = SugenoFISBuilder(\n",
    "    antecedent_sets=antecedent_parameters,\n",
    "    consequent_parameters=consequent_parameters,\n",
    "    variable_names=variable_names,\n",
    "    model_order='zero',\n",
    "    extreme_values=None,\n",
    "    save_simpful_code=False\n",
    ")\n",
    "model = simpbuilder.get_model()"
   ]
  },
  {
   "cell_type": "code",
   "execution_count": 10,
   "metadata": {
    "tags": [],
    "trusted": true
   },
   "outputs": [],
   "source": [
    "# Create a tester object and predict probabilities\n",
    "test = SugenoFISTester(model=model, test_data=x_test, variable_names=variable_names, golden_standard=y_test)\n",
    "y_pred_proba = test.predict()[0]  # Extract probabilities from the tuple"
   ]
  },
  {
   "cell_type": "code",
   "execution_count": 11,
   "metadata": {
    "tags": [],
    "trusted": true
   },
   "outputs": [
    {
     "name": "stdout",
     "output_type": "stream",
     "text": [
      "Kappa curve values exported to model_training/kappa_curve_values.csv\n",
      "Optimal threshold: 0.5309535935696522\n"
     ]
    }
   ],
   "source": [
    "# Initialize AUK class\n",
    "auk_calculator = AUK(probabilities=y_pred_proba, labels=y_test)\n",
    "\n",
    "# Calculate the kappa curve\n",
    "kappa_curve = auk_calculator.kappa_curve()\n",
    "\n",
    "# Collect the corresponding thresholds\n",
    "thresholds = auk_calculator.probabilities_set\n",
    "\n",
    "# Ensure that both kappa_curve and thresholds have the same length\n",
    "# Truncate or pad the shorter list to match the length of the other\n",
    "min_length = min(len(kappa_curve), len(thresholds))\n",
    "kappa_curve = kappa_curve[:min_length]\n",
    "thresholds = thresholds[:min_length]\n",
    "\n",
    "# Create a DataFrame to store kappa curve values and thresholds\n",
    "kappa_data = pd.DataFrame({\n",
    "    'Threshold': thresholds,\n",
    "    'Kappa': kappa_curve\n",
    "})\n",
    "\n",
    "# Export the kappa curve values to a CSV file\n",
    "output_csv_file = 'model_training/kappa_curve_values.csv'\n",
    "kappa_data.to_csv(output_csv_file, index=False)\n",
    "\n",
    "print(f\"Kappa curve values exported to {output_csv_file}\")\n",
    "\n",
    "# Find the optimal threshold (threshold with the highest kappa score)\n",
    "optimal_threshold_index = kappa_curve.index(max(kappa_curve))\n",
    "optimal_threshold = thresholds[optimal_threshold_index]\n",
    "print(f\"Optimal threshold: {optimal_threshold}\")"
   ]
  },
  {
   "cell_type": "code",
   "execution_count": 12,
   "metadata": {
    "tags": [],
    "trusted": true
   },
   "outputs": [
    {
     "name": "stdout",
     "output_type": "stream",
     "text": [
      "Kappa curve values exported to model_training/evenly_spaced_kappa_curve_values.csv\n",
      "Optimal threshold: 0.0\n"
     ]
    }
   ],
   "source": [
    "# Initialize AUK class\n",
    "auk_calculator = AUK(probabilities=y_pred_proba, labels=y_test)\n",
    "\n",
    "# Define custom evenly spaced thresholds\n",
    "evenly_spaced_thresholds = np.linspace(0, 1, num=50)  # 50 evenly spaced thresholds from 0 to 1\n",
    "\n",
    "# Calculate the kappa values for these thresholds\n",
    "kappa_values = []\n",
    "for threshold in evenly_spaced_thresholds:\n",
    "    predictions = (y_pred_proba >= threshold).astype(int)\n",
    "    tp, tn, fp, fn = auk_calculator.confusion_matrix(predictions)\n",
    "    kappa = auk_calculator.calculate_kappa(tp, tn, fp, fn)\n",
    "    kappa_values.append(kappa)\n",
    "\n",
    "# Create a DataFrame to store kappa values and thresholds\n",
    "kappa_data = pd.DataFrame({\n",
    "    'Threshold': evenly_spaced_thresholds,\n",
    "    'Kappa': kappa_values\n",
    "})\n",
    "\n",
    "# Export the kappa curve values to a CSV file\n",
    "output_csv_file = 'model_training/evenly_spaced_kappa_curve_values.csv'\n",
    "kappa_data.to_csv(output_csv_file, index=False)\n",
    "\n",
    "print(f\"Kappa curve values exported to {output_csv_file}\")\n",
    "\n",
    "# Find the optimal threshold (threshold with the highest kappa score)\n",
    "optimal_threshold_index = kappa_values.index(max(kappa_values))\n",
    "optimal_threshold_even = evenly_spaced_thresholds[optimal_threshold_index]\n",
    "print(f\"Optimal threshold: {optimal_threshold_even}\")"
   ]
  },
  {
   "cell_type": "code",
   "execution_count": 13,
   "metadata": {
    "tags": [],
    "trusted": true
   },
   "outputs": [
    {
     "name": "stdout",
     "output_type": "stream",
     "text": [
      "Accuracy at optimal threshold: 0.58\n",
      "AUC at optimal threshold: 0.5716579686872741\n"
     ]
    }
   ],
   "source": [
    "# Convert probabilities to binary predictions using the optimal threshold\n",
    "y_pred_optimal = (y_pred_proba >= optimal_threshold).astype(int)\n",
    "\n",
    "# Calculate accuracy\n",
    "accuracy_optimal = accuracy_score(y_test, y_pred_optimal)\n",
    "\n",
    "# Calculate AUC\n",
    "auc_optimal = roc_auc_score(y_test, y_pred_proba)\n",
    "\n",
    "print(f\"Accuracy at optimal threshold: {accuracy_optimal}\")\n",
    "print(f\"AUC at optimal threshold: {auc_optimal}\")"
   ]
  },
  {
   "cell_type": "code",
   "execution_count": 14,
   "metadata": {},
   "outputs": [],
   "source": [
    "# save optimal decision threshold to pkl file\n",
    "\n",
    "# Save threshold to a .pkl file\n",
    "with open('model_training/optimal_decision_threshold.pkl', 'wb') as f:\n",
    "    pickle.dump(optimal_threshold, f)"
   ]
  }
 ],
 "metadata": {
  "kernelspec": {
   "display_name": "FRP311",
   "language": "python",
   "name": "python3"
  },
  "language_info": {
   "codemirror_mode": {
    "name": "ipython",
    "version": 3
   },
   "file_extension": ".py",
   "mimetype": "text/x-python",
   "name": "python",
   "nbconvert_exporter": "python",
   "pygments_lexer": "ipython3",
   "version": "3.11.9"
  }
 },
 "nbformat": 4,
 "nbformat_minor": 4
}
