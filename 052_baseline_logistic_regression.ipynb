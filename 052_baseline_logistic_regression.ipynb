{
 "cells": [
  {
   "cell_type": "code",
   "execution_count": 4,
   "metadata": {},
   "outputs": [],
   "source": [
    "# import section\n",
    "\n",
    "import pandas as pd\n",
    "from sklearn.model_selection import train_test_split\n",
    "from sklearn.linear_model import LogisticRegression\n",
    "from sklearn.model_selection import RandomizedSearchCV\n",
    "from sklearn.metrics import accuracy_score, roc_auc_score, confusion_matrix, precision_score, recall_score\n",
    "from AUK import AUK"
   ]
  },
  {
   "cell_type": "code",
   "execution_count": 5,
   "metadata": {
    "tags": [],
    "trusted": true
   },
   "outputs": [
    {
     "name": "stdout",
     "output_type": "stream",
     "text": [
      "Loaded train dataframe from: feature_selection/train_df_all_features_10_RFE.pkl\n",
      "Loaded test dataframe from: feature_selection/test_df_all_features_10_RFE.pkl\n"
     ]
    }
   ],
   "source": [
    "# Block 0: Load data\n",
    "\n",
    "# Load best hyperparameters from pkl file\n",
    "best_hyperparameters = pd.read_pickle('model_training/best_hyperparameters.pkl')\n",
    "\n",
    "# Extract the first row from the 'params' column\n",
    "params_dict = best_hyperparameters['params'].iloc[0]\n",
    "\n",
    "# Ensure the 'params' column contains a dictionary\n",
    "if isinstance(params_dict, dict):\n",
    "    # Dynamically create variables from the dictionary keys\n",
    "    for key, value in params_dict.items():\n",
    "        locals()[key] = value\n",
    "\n",
    "    # Derive dataframe_name from the params_dict or directly from 'dataframe_name' key\n",
    "    if 'dataframe_name' in params_dict:\n",
    "        dataframe_name = params_dict['dataframe_name']\n",
    "\n",
    "        # Construct base folder for .pkl files\n",
    "        base_folder = 'feature_selection'\n",
    "\n",
    "        # Replace 'train' with 'test' and construct the test .pkl path\n",
    "        test_dataframe_name = dataframe_name.replace('train', 'test', 1)\n",
    "        test_pkl_file_path = f'{base_folder}/{test_dataframe_name}.pkl'\n",
    "\n",
    "        # Construct the train .pkl path\n",
    "        train_pkl_file_path = f'{base_folder}/{dataframe_name}.pkl'\n",
    "\n",
    "        # Load train and test dataframes\n",
    "        try:\n",
    "            train_data = pd.read_pickle(train_pkl_file_path)\n",
    "            test_data = pd.read_pickle(test_pkl_file_path)\n",
    "\n",
    "            # Print to verify\n",
    "            print(f\"Loaded train dataframe from: {train_pkl_file_path}\")\n",
    "            print(f\"Loaded test dataframe from: {test_pkl_file_path}\")\n",
    "        except FileNotFoundError as e:\n",
    "            print(f\"Error: {e}\")\n",
    "    else:\n",
    "        print(\"Error: 'dataframe_name' not found in params_dict.\")\n",
    "else:\n",
    "    print(\"Error: The 'params' column does not contain a dictionary.\")"
   ]
  },
  {
   "cell_type": "code",
   "execution_count": 6,
   "metadata": {
    "tags": [],
    "trusted": true
   },
   "outputs": [],
   "source": [
    "# Block 1: sample the data\n",
    "\n",
    "# drop extra columns that are not needed for the model\n",
    "test_data = test_data.drop(columns=['eid', 'p130894', 'p130895', 'p53_i0'])\n",
    "\n",
    "# Sample the training data to 500 rows\n",
    "train_sampled = train_data.sample(n=500, random_state=81)\n",
    "\n",
    "# Separate features and target\n",
    "X_train = train_sampled.drop(columns=['target']) \n",
    "y_train = train_sampled['target']\n",
    "X_test = test_data.drop(columns=['target'])\n",
    "y_test = test_data['target']"
   ]
  },
  {
   "cell_type": "code",
   "execution_count": 7,
   "metadata": {
    "tags": [],
    "trusted": true
   },
   "outputs": [
    {
     "name": "stdout",
     "output_type": "stream",
     "text": [
      "Best hyperparameters: {'solver': 'saga', 'penalty': 'l1', 'max_iter': 500, 'C': 0.5}\n"
     ]
    }
   ],
   "source": [
    "# Block 2: Hyperparameter tuning\n",
    "\n",
    "# Define the parameter grid from the table\n",
    "param_grid = {\n",
    "    'penalty': ['l1', 'l2'],\n",
    "    'solver': ['saga'],\n",
    "    'C': [0.001, 0.005, 0.01, 0.02, 0.1, 0.5, 1, 10, 100],\n",
    "    'max_iter': [100, 500, 1000, 2000, 3000, 5000]\n",
    "}\n",
    "\n",
    "# Create a Logistic Regression model\n",
    "logistic_model = LogisticRegression(random_state=81)\n",
    "\n",
    "# Randomized Search CV\n",
    "random_search = RandomizedSearchCV(estimator=logistic_model, param_distributions=param_grid,\n",
    "                                   n_iter=100, scoring='roc_auc', cv=5, random_state=81, n_jobs=-1)\n",
    "random_search.fit(X_train, y_train)\n",
    "\n",
    "# Best model after tuning\n",
    "best_model = random_search.best_estimator_\n",
    "print(\"Best hyperparameters:\", random_search.best_params_)"
   ]
  },
  {
   "cell_type": "code",
   "execution_count": 8,
   "metadata": {
    "tags": [],
    "trusted": true
   },
   "outputs": [],
   "source": [
    "# Block 3: Model prediction on test data\n",
    "y_pred = best_model.predict(X_test)\n",
    "y_pred_proba = best_model.predict_proba(X_test)[:, 1]  # Probability for the positive class"
   ]
  },
  {
   "cell_type": "code",
   "execution_count": 9,
   "metadata": {
    "tags": [],
    "trusted": true
   },
   "outputs": [
    {
     "name": "stdout",
     "output_type": "stream",
     "text": [
      "AUC: 0.5190354923441604\n",
      "Accuracy: 0.52\n",
      "Confusion Matrix:\n",
      " [[148 110]\n",
      " [130 112]]\n",
      "Precision: 0.5045045045045045\n",
      "Recall: 0.4628099173553719\n",
      "AUK: 0.019023681987061475\n"
     ]
    }
   ],
   "source": [
    "# Block 4: Calculate metrics\n",
    "\n",
    "# Ensure y_test is passed as a list or numpy array to AUK\n",
    "y_test_list = y_test.tolist()  # Convert y_test to a list to avoid index issues\n",
    "\n",
    "# Calculate AUC\n",
    "auc = roc_auc_score(y_test, y_pred_proba)\n",
    "print(\"AUC:\", auc)\n",
    "\n",
    "# Calculate accuracy\n",
    "accuracy = accuracy_score(y_test, y_pred)\n",
    "print(\"Accuracy:\", accuracy)\n",
    "\n",
    "# Calculate confusion matrix\n",
    "conf_matrix = confusion_matrix(y_test, y_pred)\n",
    "print(\"Confusion Matrix:\\n\", conf_matrix)\n",
    "\n",
    "# Calculate precision\n",
    "precision = precision_score(y_test, y_pred)\n",
    "print(\"Precision:\", precision)\n",
    "\n",
    "# Calculate recall\n",
    "recall = recall_score(y_test, y_pred)\n",
    "print(\"Recall:\", recall)\n",
    "\n",
    "# Calculate AUK\n",
    "auk_class = AUK(probabilities=y_pred_proba, labels=y_test_list)\n",
    "auk = auk_class.calculate_auk()\n",
    "print(\"AUK:\", auk)"
   ]
  }
 ],
 "metadata": {
  "kernelspec": {
   "display_name": "FRP311",
   "language": "python",
   "name": "python3"
  },
  "language_info": {
   "codemirror_mode": {
    "name": "ipython",
    "version": 3
   },
   "file_extension": ".py",
   "mimetype": "text/x-python",
   "name": "python",
   "nbconvert_exporter": "python",
   "pygments_lexer": "ipython3",
   "version": "3.11.9"
  }
 },
 "nbformat": 4,
 "nbformat_minor": 4
}
