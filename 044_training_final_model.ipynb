{
 "cells": [
  {
   "cell_type": "code",
   "execution_count": 1,
   "metadata": {},
   "outputs": [],
   "source": [
    "# import section\n",
    "\n",
    "import pandas as pd\n",
    "import pickle\n",
    "import shutil\n",
    "import os\n",
    "from sklearn.model_selection import train_test_split\n",
    "from pyfume import Clustering\n",
    "from pyfume import AntecedentEstimator\n",
    "from pyfume import FireStrengthCalculator\n",
    "from pyfume import SugenoFISBuilder\n",
    "from pyfume import ConsequentEstimator"
   ]
  },
  {
   "cell_type": "code",
   "execution_count": 2,
   "metadata": {
    "trusted": true
   },
   "outputs": [
    {
     "name": "stdout",
     "output_type": "stream",
     "text": [
      "sample_size: 605\n",
      "random_state: 2024\n",
      "nr_clus: 13\n",
      "mf_shape: trapmf\n",
      "merge_threshold: 1.0\n",
      "m: 2.0\n",
      "dataframe_name: train_df_all_features_10\n",
      "covariance_type: tied\n",
      "consequent_method: global_LSE\n",
      "clustering_method: gmm\n",
      "Loaded dataframe from: feature_selection/train_df_all_features_10.pkl\n"
     ]
    }
   ],
   "source": [
    "# load best hyperparameters from pkl file into pandas dataframe\n",
    "\n",
    "best_hyperparameters = pd.read_pickle('model_training/best_hyperparameters.pkl')\n",
    "\n",
    "# Extract the first row from the 'params' column\n",
    "params_dict = best_hyperparameters['params'].iloc[0] \n",
    "\n",
    "# Verify the type to ensure it's already a dictionary\n",
    "if isinstance(params_dict, dict):\n",
    "    # Dynamically create variables with names corresponding to the dictionary keys\n",
    "    for key, value in params_dict.items():\n",
    "        locals()[key] = value\n",
    "\n",
    "    # Print the variables to verify\n",
    "    for key in params_dict.keys():\n",
    "        print(f\"{key}: {locals()[key]}\")\n",
    "else:\n",
    "    print(\"Error: The 'params' column does not contain a dictionary.\")\n",
    "\n",
    "    # Base folder for .pkl files\n",
    "base_folder = 'feature_selection'\n",
    "\n",
    "# Construct the full path\n",
    "pkl_file_path = f'{base_folder}/{dataframe_name}.pkl'\n",
    "\n",
    "# Load the dataframe and assign it to train_df\n",
    "train_df = pd.read_pickle(pkl_file_path)\n",
    "\n",
    "# Print to verify\n",
    "print(f\"Loaded dataframe from: {pkl_file_path}\")"
   ]
  },
  {
   "cell_type": "code",
   "execution_count": 3,
   "metadata": {
    "trusted": true
   },
   "outputs": [],
   "source": [
    "# Assign the train dataset to df\n",
    "df = train_df\n",
    "\n",
    "# Split the data into features and target\n",
    "X = df.drop(columns=['target'])\n",
    "y = df['target']\n",
    "\n",
    "X = X.to_numpy()\n",
    "y = y.to_numpy()\n",
    "\n",
    "# Variable names for future steps\n",
    "variable_names = df.columns[:-1]"
   ]
  },
  {
   "cell_type": "code",
   "execution_count": 4,
   "metadata": {
    "trusted": true
   },
   "outputs": [],
   "source": [
    "# Create a Clusterer object and run clustering\n",
    "cl = Clustering.Clusterer(x_train=X, y_train=y, nr_clus=nr_clus)\n",
    "\n",
    "# Adjust the clustering method based on the parameters\n",
    "if clustering_method in ['fcm', 'fcm_binary', 'fst-pso', 'gk']:\n",
    "    # Pass the fuzziness coefficient m for these methods\n",
    "    cluster_centers, partition_matrix, _ = cl.cluster(method=clustering_method, m=m)\n",
    "elif clustering_method == 'gmm':\n",
    "    # Pass covariance_type for GMM\n",
    "    cluster_centers, partition_matrix, _ = cl.cluster(method=clustering_method, covariance_type=covariance_type)\n",
    "else:\n",
    "    # For other methods, run the clustering normally\n",
    "    cluster_centers, partition_matrix, _ = cl.cluster(method=clustering_method)"
   ]
  },
  {
   "cell_type": "code",
   "execution_count": 5,
   "metadata": {
    "trusted": true
   },
   "outputs": [
    {
     "name": "stderr",
     "output_type": "stream",
     "text": [
      "/Users/peter/.pyenv/versions/FRP31110/lib/python3.11/site-packages/scipy/optimize/_minpack_py.py:906: OptimizeWarning: Covariance of the parameters could not be estimated\n",
      "  warnings.warn('Covariance of the parameters could not be estimated',\n"
     ]
    }
   ],
   "source": [
    "# Estimate membership functions\n",
    "ae = AntecedentEstimator(x_train=X, partition_matrix=partition_matrix)\n",
    "antecedent_parameters = ae.determineMF(mf_shape=mf_shape, merge_threshold=merge_threshold)"
   ]
  },
  {
   "cell_type": "code",
   "execution_count": 6,
   "metadata": {
    "trusted": true
   },
   "outputs": [
    {
     "name": "stdout",
     "output_type": "stream",
     "text": [
      "Index(['p728_i0_Category_B', 'p1200_i0_Category_E', 'p10895_i0_Category_E',\n",
      "       'p6222_i0', 'p4041_i0_Category_B', 'p6148_i0_Category_E',\n",
      "       'p3506_i0_Category_E', 'p1418_i0_Category_B', 'p4295_i0_Category_E',\n",
      "       'p1598_i0_Category_C'],\n",
      "      dtype='object')\n"
     ]
    }
   ],
   "source": [
    "# Calculate firing strengths\n",
    "fsc = FireStrengthCalculator(antecedent_parameters=antecedent_parameters, nr_clus=nr_clus, variable_names=variable_names)\n",
    "firing_strengths = fsc.calculate_fire_strength(data=X)"
   ]
  },
  {
   "cell_type": "code",
   "execution_count": 7,
   "metadata": {
    "tags": [],
    "trusted": true
   },
   "outputs": [
    {
     "name": "stdout",
     "output_type": "stream",
     "text": [
      " * Detected 13 rules / clusters\n",
      " * Code saved to file Simpful_code.py\n",
      " * Detected Sugeno model type\n"
     ]
    }
   ],
   "source": [
    "# Estimate consequent parameters\n",
    "ce = ConsequentEstimator(x_train=X, y_train=y, firing_strengths=firing_strengths)\n",
    "consequent_parameters = ce.zero_order(method=consequent_method)\n",
    "\n",
    "# Build the Sugeno FIS model\n",
    "simpbuilder = SugenoFISBuilder(\n",
    "    antecedent_sets=antecedent_parameters,\n",
    "    consequent_parameters=consequent_parameters,\n",
    "    variable_names=variable_names,\n",
    "    model_order='zero',\n",
    "    extreme_values=None,\n",
    "    save_simpful_code=True\n",
    ")\n",
    "model = simpbuilder.get_model()"
   ]
  },
  {
   "cell_type": "code",
   "execution_count": 8,
   "metadata": {
    "trusted": true
   },
   "outputs": [],
   "source": [
    "# Save the model to a file\n",
    "with open('model_training/final_model.pkl', 'wb') as file:\n",
    "    pickle.dump(model, file)"
   ]
  },
  {
   "cell_type": "code",
   "execution_count": 9,
   "metadata": {},
   "outputs": [
    {
     "name": "stdout",
     "output_type": "stream",
     "text": [
      "Simpful_code.py has been moved to model_training.\n"
     ]
    }
   ],
   "source": [
    "# move Simpful code to model_training folder\n",
    "\n",
    "# Define the source and destination paths\n",
    "source_file = 'Simpful_code.py'\n",
    "destination_folder = 'model_training'\n",
    "\n",
    "# Ensure the destination folder exists, create it if it doesn't\n",
    "os.makedirs(destination_folder, exist_ok=True)\n",
    "\n",
    "# Move the file\n",
    "shutil.move(source_file, os.path.join(destination_folder, source_file))\n",
    "\n",
    "print(f\"{source_file} has been moved to {destination_folder}.\")"
   ]
  }
 ],
 "metadata": {
  "kernelspec": {
   "display_name": "FRP31110",
   "language": "python",
   "name": "python3"
  },
  "language_info": {
   "codemirror_mode": {
    "name": "ipython",
    "version": 3
   },
   "file_extension": ".py",
   "mimetype": "text/x-python",
   "name": "python",
   "nbconvert_exporter": "python",
   "pygments_lexer": "ipython3",
   "version": "3.11.10"
  }
 },
 "nbformat": 4,
 "nbformat_minor": 4
}
