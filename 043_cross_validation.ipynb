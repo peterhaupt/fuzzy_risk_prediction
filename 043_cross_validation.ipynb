{
 "cells": [
  {
   "cell_type": "code",
   "execution_count": 1,
   "metadata": {
    "tags": [],
    "trusted": true
   },
   "outputs": [],
   "source": [
    "# import section\n",
    "import pandas as pd\n",
    "import pickle\n",
    "import numpy as np\n",
    "from sklearn.model_selection import KFold\n",
    "from sklearn.metrics import accuracy_score, roc_auc_score\n",
    "from pyfume import Clustering, AntecedentEstimator, FireStrengthCalculator, ConsequentEstimator, SugenoFISBuilder, SugenoFISTester"
   ]
  },
  {
   "cell_type": "code",
   "execution_count": 2,
   "metadata": {},
   "outputs": [],
   "source": [
    "# load optimal decision threshold\n",
    "with open('model_training/optimal_decision_threshold.pkl', 'rb') as f:\n",
    "    optimal_decision_threshold = pickle.load(f)"
   ]
  },
  {
   "cell_type": "code",
   "execution_count": 3,
   "metadata": {
    "tags": [],
    "trusted": true
   },
   "outputs": [
    {
     "name": "stdout",
     "output_type": "stream",
     "text": [
      "sample_size: 605\n",
      "random_state: 2024\n",
      "nr_clus: 13\n",
      "mf_shape: trapmf\n",
      "merge_threshold: 1.0\n",
      "m: 2.0\n",
      "dataframe_name: train_df_all_features_10\n",
      "covariance_type: tied\n",
      "consequent_method: global_LSE\n",
      "clustering_method: gmm\n",
      "Loaded dataframe from: feature_selection/train_df_all_features_10.pkl\n"
     ]
    }
   ],
   "source": [
    "# load best hyperparameters from pkl file into pandas dataframe\n",
    "\n",
    "best_hyperparameters = pd.read_pickle('model_training/best_hyperparameters.pkl')\n",
    "\n",
    "# Extract the first row from the 'params' column\n",
    "params_dict = best_hyperparameters['params'].iloc[0] \n",
    "\n",
    "# Verify the type to ensure it's already a dictionary\n",
    "if isinstance(params_dict, dict):\n",
    "    # Dynamically create variables with names corresponding to the dictionary keys\n",
    "    for key, value in params_dict.items():\n",
    "        locals()[key] = value\n",
    "\n",
    "    # Print the variables to verify\n",
    "    for key in params_dict.keys():\n",
    "        print(f\"{key}: {locals()[key]}\")\n",
    "else:\n",
    "    print(\"Error: The 'params' column does not contain a dictionary.\")\n",
    "\n",
    "    # Base folder for .pkl files\n",
    "base_folder = 'feature_selection'\n",
    "\n",
    "# Construct the full path\n",
    "pkl_file_path = f'{base_folder}/{dataframe_name}.pkl'\n",
    "\n",
    "# Load the dataframe and assign it to train_df\n",
    "train_df = pd.read_pickle(pkl_file_path)\n",
    "\n",
    "# Print to verify\n",
    "print(f\"Loaded dataframe from: {pkl_file_path}\")"
   ]
  },
  {
   "cell_type": "code",
   "execution_count": 4,
   "metadata": {
    "tags": [],
    "trusted": true
   },
   "outputs": [
    {
     "name": "stderr",
     "output_type": "stream",
     "text": [
      "/Users/peter/.pyenv/versions/FRP31110/lib/python3.11/site-packages/scipy/optimize/_minpack_py.py:906: OptimizeWarning: Covariance of the parameters could not be estimated\n",
      "  warnings.warn('Covariance of the parameters could not be estimated',\n"
     ]
    },
    {
     "name": "stdout",
     "output_type": "stream",
     "text": [
      "Index(['p728_i0_Category_B', 'p1200_i0_Category_E', 'p10895_i0_Category_E',\n",
      "       'p6222_i0', 'p4041_i0_Category_B', 'p6148_i0_Category_E',\n",
      "       'p3506_i0_Category_E', 'p1418_i0_Category_B', 'p4295_i0_Category_E',\n",
      "       'p1598_i0_Category_C'],\n",
      "      dtype='object')\n",
      " * Detected 13 rules / clusters\n",
      " * Detected Sugeno model type\n",
      "WARNING: the sum of rules' firing for variable 'OUTPUT' is equal to 0. The result of the Sugeno inference was set to 0.\n",
      "WARNING: the sum of rules' firing for variable 'OUTPUT' is equal to 0. The result of the Sugeno inference was set to 0.\n",
      "WARNING: the sum of rules' firing for variable 'OUTPUT' is equal to 0. The result of the Sugeno inference was set to 0.\n",
      "WARNING: the sum of rules' firing for variable 'OUTPUT' is equal to 0. The result of the Sugeno inference was set to 0.\n"
     ]
    },
    {
     "name": "stderr",
     "output_type": "stream",
     "text": [
      "/Users/peter/.pyenv/versions/FRP31110/lib/python3.11/site-packages/scipy/optimize/_minpack_py.py:906: OptimizeWarning: Covariance of the parameters could not be estimated\n",
      "  warnings.warn('Covariance of the parameters could not be estimated',\n"
     ]
    },
    {
     "name": "stdout",
     "output_type": "stream",
     "text": [
      "Index(['p728_i0_Category_B', 'p1200_i0_Category_E', 'p10895_i0_Category_E',\n",
      "       'p6222_i0', 'p4041_i0_Category_B', 'p6148_i0_Category_E',\n",
      "       'p3506_i0_Category_E', 'p1418_i0_Category_B', 'p4295_i0_Category_E',\n",
      "       'p1598_i0_Category_C'],\n",
      "      dtype='object')\n",
      " * Detected 13 rules / clusters\n",
      " * Detected Sugeno model type\n"
     ]
    },
    {
     "name": "stderr",
     "output_type": "stream",
     "text": [
      "/Users/peter/.pyenv/versions/FRP31110/lib/python3.11/site-packages/scipy/optimize/_minpack_py.py:906: OptimizeWarning: Covariance of the parameters could not be estimated\n",
      "  warnings.warn('Covariance of the parameters could not be estimated',\n"
     ]
    },
    {
     "name": "stdout",
     "output_type": "stream",
     "text": [
      "Index(['p728_i0_Category_B', 'p1200_i0_Category_E', 'p10895_i0_Category_E',\n",
      "       'p6222_i0', 'p4041_i0_Category_B', 'p6148_i0_Category_E',\n",
      "       'p3506_i0_Category_E', 'p1418_i0_Category_B', 'p4295_i0_Category_E',\n",
      "       'p1598_i0_Category_C'],\n",
      "      dtype='object')\n",
      " * Detected 13 rules / clusters\n",
      " * Detected Sugeno model type\n",
      "WARNING: the sum of rules' firing for variable 'OUTPUT' is equal to 0. The result of the Sugeno inference was set to 0.\n"
     ]
    },
    {
     "name": "stderr",
     "output_type": "stream",
     "text": [
      "/Users/peter/.pyenv/versions/FRP31110/lib/python3.11/site-packages/scipy/optimize/_minpack_py.py:906: OptimizeWarning: Covariance of the parameters could not be estimated\n",
      "  warnings.warn('Covariance of the parameters could not be estimated',\n"
     ]
    },
    {
     "name": "stdout",
     "output_type": "stream",
     "text": [
      "Index(['p728_i0_Category_B', 'p1200_i0_Category_E', 'p10895_i0_Category_E',\n",
      "       'p6222_i0', 'p4041_i0_Category_B', 'p6148_i0_Category_E',\n",
      "       'p3506_i0_Category_E', 'p1418_i0_Category_B', 'p4295_i0_Category_E',\n",
      "       'p1598_i0_Category_C'],\n",
      "      dtype='object')\n",
      " * Detected 13 rules / clusters\n",
      " * Detected Sugeno model type\n"
     ]
    },
    {
     "name": "stderr",
     "output_type": "stream",
     "text": [
      "/Users/peter/.pyenv/versions/FRP31110/lib/python3.11/site-packages/scipy/optimize/_minpack_py.py:906: OptimizeWarning: Covariance of the parameters could not be estimated\n",
      "  warnings.warn('Covariance of the parameters could not be estimated',\n"
     ]
    },
    {
     "name": "stdout",
     "output_type": "stream",
     "text": [
      "Index(['p728_i0_Category_B', 'p1200_i0_Category_E', 'p10895_i0_Category_E',\n",
      "       'p6222_i0', 'p4041_i0_Category_B', 'p6148_i0_Category_E',\n",
      "       'p3506_i0_Category_E', 'p1418_i0_Category_B', 'p4295_i0_Category_E',\n",
      "       'p1598_i0_Category_C'],\n",
      "      dtype='object')\n",
      " * Detected 13 rules / clusters\n",
      " * Detected Sugeno model type\n"
     ]
    },
    {
     "name": "stderr",
     "output_type": "stream",
     "text": [
      "/Users/peter/.pyenv/versions/FRP31110/lib/python3.11/site-packages/scipy/optimize/_minpack_py.py:906: OptimizeWarning: Covariance of the parameters could not be estimated\n",
      "  warnings.warn('Covariance of the parameters could not be estimated',\n"
     ]
    },
    {
     "name": "stdout",
     "output_type": "stream",
     "text": [
      "Index(['p728_i0_Category_B', 'p1200_i0_Category_E', 'p10895_i0_Category_E',\n",
      "       'p6222_i0', 'p4041_i0_Category_B', 'p6148_i0_Category_E',\n",
      "       'p3506_i0_Category_E', 'p1418_i0_Category_B', 'p4295_i0_Category_E',\n",
      "       'p1598_i0_Category_C'],\n",
      "      dtype='object')\n",
      " * Detected 13 rules / clusters\n",
      " * Detected Sugeno model type\n",
      "WARNING: the sum of rules' firing for variable 'OUTPUT' is equal to 0. The result of the Sugeno inference was set to 0.\n"
     ]
    },
    {
     "name": "stderr",
     "output_type": "stream",
     "text": [
      "/Users/peter/.pyenv/versions/FRP31110/lib/python3.11/site-packages/scipy/optimize/_minpack_py.py:906: OptimizeWarning: Covariance of the parameters could not be estimated\n",
      "  warnings.warn('Covariance of the parameters could not be estimated',\n"
     ]
    },
    {
     "name": "stdout",
     "output_type": "stream",
     "text": [
      "Index(['p728_i0_Category_B', 'p1200_i0_Category_E', 'p10895_i0_Category_E',\n",
      "       'p6222_i0', 'p4041_i0_Category_B', 'p6148_i0_Category_E',\n",
      "       'p3506_i0_Category_E', 'p1418_i0_Category_B', 'p4295_i0_Category_E',\n",
      "       'p1598_i0_Category_C'],\n",
      "      dtype='object')\n",
      " * Detected 13 rules / clusters\n",
      " * Detected Sugeno model type\n"
     ]
    },
    {
     "name": "stderr",
     "output_type": "stream",
     "text": [
      "/Users/peter/.pyenv/versions/FRP31110/lib/python3.11/site-packages/scipy/optimize/_minpack_py.py:906: OptimizeWarning: Covariance of the parameters could not be estimated\n",
      "  warnings.warn('Covariance of the parameters could not be estimated',\n"
     ]
    },
    {
     "name": "stdout",
     "output_type": "stream",
     "text": [
      "Index(['p728_i0_Category_B', 'p1200_i0_Category_E', 'p10895_i0_Category_E',\n",
      "       'p6222_i0', 'p4041_i0_Category_B', 'p6148_i0_Category_E',\n",
      "       'p3506_i0_Category_E', 'p1418_i0_Category_B', 'p4295_i0_Category_E',\n",
      "       'p1598_i0_Category_C'],\n",
      "      dtype='object')\n",
      " * Detected 13 rules / clusters\n",
      " * Detected Sugeno model type\n",
      "WARNING: the sum of rules' firing for variable 'OUTPUT' is equal to 0. The result of the Sugeno inference was set to 0.\n"
     ]
    },
    {
     "name": "stderr",
     "output_type": "stream",
     "text": [
      "/Users/peter/.pyenv/versions/FRP31110/lib/python3.11/site-packages/scipy/optimize/_minpack_py.py:906: OptimizeWarning: Covariance of the parameters could not be estimated\n",
      "  warnings.warn('Covariance of the parameters could not be estimated',\n"
     ]
    },
    {
     "name": "stdout",
     "output_type": "stream",
     "text": [
      "Index(['p728_i0_Category_B', 'p1200_i0_Category_E', 'p10895_i0_Category_E',\n",
      "       'p6222_i0', 'p4041_i0_Category_B', 'p6148_i0_Category_E',\n",
      "       'p3506_i0_Category_E', 'p1418_i0_Category_B', 'p4295_i0_Category_E',\n",
      "       'p1598_i0_Category_C'],\n",
      "      dtype='object')\n",
      " * Detected 13 rules / clusters\n",
      " * Detected Sugeno model type\n",
      "WARNING: the sum of rules' firing for variable 'OUTPUT' is equal to 0. The result of the Sugeno inference was set to 0.\n",
      "WARNING: the sum of rules' firing for variable 'OUTPUT' is equal to 0. The result of the Sugeno inference was set to 0.\n",
      "WARNING: the sum of rules' firing for variable 'OUTPUT' is equal to 0. The result of the Sugeno inference was set to 0.\n",
      "WARNING: the sum of rules' firing for variable 'OUTPUT' is equal to 0. The result of the Sugeno inference was set to 0.\n"
     ]
    },
    {
     "name": "stderr",
     "output_type": "stream",
     "text": [
      "/Users/peter/.pyenv/versions/FRP31110/lib/python3.11/site-packages/scipy/optimize/_minpack_py.py:906: OptimizeWarning: Covariance of the parameters could not be estimated\n",
      "  warnings.warn('Covariance of the parameters could not be estimated',\n"
     ]
    },
    {
     "name": "stdout",
     "output_type": "stream",
     "text": [
      "Index(['p728_i0_Category_B', 'p1200_i0_Category_E', 'p10895_i0_Category_E',\n",
      "       'p6222_i0', 'p4041_i0_Category_B', 'p6148_i0_Category_E',\n",
      "       'p3506_i0_Category_E', 'p1418_i0_Category_B', 'p4295_i0_Category_E',\n",
      "       'p1598_i0_Category_C'],\n",
      "      dtype='object')\n",
      " * Detected 13 rules / clusters\n",
      " * Detected Sugeno model type\n",
      "Accuracies: [0.6229508196721312, 0.6885245901639344, 0.7213114754098361, 0.7704918032786885, 0.6229508196721312, 0.6333333333333333, 0.7166666666666667, 0.7166666666666667, 0.7166666666666667, 0.7]\n",
      "AUCs: [0.7113289760348585, 0.8178879310344827, 0.8091397849462365, 0.889247311827957, 0.7886710239651415, 0.7580645161290321, 0.8333333333333333, 0.8427601809954751, 0.8030303030303031, 0.8051428571428572]\n",
      "Mean Accuracy: 0.6909562841530055\n",
      "Mean AUC: 0.8058606218439678\n",
      "Standard Deviation of Accuracy: 0.04678461342951325\n",
      "Standard Deviation of AUC: 0.04555193127907537\n"
     ]
    }
   ],
   "source": [
    "# Function to run a single experiment with given train/test data and parameters\n",
    "def run_single_experiment(x_train, y_train, x_test, y_test, variable_names, nr_clus=10, clustering_method='gmm', mf_shape='gauss2', consequent_method=\"global_LSE\", merge_threshold=1.0, m=1.5, covariance_type='spherical', optimal_decision_threshold=optimal_decision_threshold):\n",
    "    # Create a Clusterer object and run clustering\n",
    "    cl = Clustering.Clusterer(x_train=x_train, y_train=y_train, nr_clus=nr_clus)\n",
    "\n",
    "    # Adjust the clustering method based on the parameters\n",
    "    if clustering_method in ['fcm', 'fcm_binary', 'fst-pso', 'gk']:\n",
    "        # Pass the fuzziness coefficient m for these methods\n",
    "        cluster_centers, partition_matrix, _ = cl.cluster(method=clustering_method, m=m)\n",
    "    elif clustering_method == 'gmm':\n",
    "        # Pass covariance_type for GMM\n",
    "        cluster_centers, partition_matrix, _ = cl.cluster(method=clustering_method, covariance_type=covariance_type)\n",
    "    else:\n",
    "        # For other methods, run the clustering normally\n",
    "        cluster_centers, partition_matrix, _ = cl.cluster(method=clustering_method)\n",
    "\n",
    "    # Estimate membership functions\n",
    "    ae = AntecedentEstimator(x_train=x_train, partition_matrix=partition_matrix)\n",
    "    antecedent_parameters = ae.determineMF(mf_shape=mf_shape, merge_threshold=merge_threshold)\n",
    "\n",
    "    # Calculate firing strengths\n",
    "    fsc = FireStrengthCalculator(antecedent_parameters=antecedent_parameters, nr_clus=nr_clus, variable_names=variable_names)\n",
    "    firing_strengths = fsc.calculate_fire_strength(data=x_train)\n",
    "\n",
    "    # Estimate consequent parameters\n",
    "    ce = ConsequentEstimator(x_train=x_train, y_train=y_train, firing_strengths=firing_strengths)\n",
    "    consequent_parameters = ce.zero_order(method=consequent_method)\n",
    "\n",
    "    # Build the Takagi-Sugeno fuzzy inference system (FIS) model\n",
    "    simpbuilder = SugenoFISBuilder(\n",
    "        antecedent_sets=antecedent_parameters,\n",
    "        consequent_parameters=consequent_parameters,\n",
    "        variable_names=variable_names,\n",
    "        model_order='zero',\n",
    "        extreme_values=None,\n",
    "        save_simpful_code=False\n",
    "    )\n",
    "    model = simpbuilder.get_model()\n",
    "\n",
    "    # Evaluate on the test data\n",
    "    test = SugenoFISTester(model=model, test_data=x_test, variable_names=variable_names, golden_standard=y_test)\n",
    "    y_pred_proba = test.predict()[0]  # Get predicted probabilities\n",
    "\n",
    "    # Use optimal decision threshold as the threshold for binary classification\n",
    "    y_pred = (y_pred_proba > optimal_decision_threshold).astype(int)\n",
    "\n",
    "    # Calculate accuracy and AUC\n",
    "    accuracy = accuracy_score(y_test, y_pred)\n",
    "    auc = roc_auc_score(y_test, y_pred_proba)\n",
    "\n",
    "    return accuracy, auc\n",
    "\n",
    "# Function to run 10-fold cross-validation\n",
    "def run_cross_validation(df, variable_names, sample_size=2000, nr_clus=10, clustering_method='gmm', mf_shape='gauss2', consequent_method=\"global_LSE\", merge_threshold=1.0, m=1.5, covariance_type='spherical', random_state=2024, optimal_decision_threshold=optimal_decision_threshold):\n",
    "    # Sample the dataframe if needed\n",
    "    df = df.sample(n=sample_size, random_state=random_state)\n",
    "    \n",
    "    # Separate features and target\n",
    "    X = df[variable_names]  # Use only the variables defined (excluding 'target')\n",
    "    y = df['target']\n",
    "\n",
    "    # Prepare for cross-validation\n",
    "    kf = KFold(n_splits=10, shuffle=True, random_state=random_state)\n",
    "\n",
    "    # Lists to store results\n",
    "    accuracies = []\n",
    "    aucs = []\n",
    "\n",
    "    # Run cross-validation\n",
    "    for train_index, test_index in kf.split(X):\n",
    "        x_train, x_test = X.iloc[train_index], X.iloc[test_index]\n",
    "        y_train, y_test = y.iloc[train_index], y.iloc[test_index]\n",
    "\n",
    "        # Convert x_train, x_test to NumPy arrays for clustering and further processing\n",
    "        x_train_np = x_train.to_numpy()\n",
    "        x_test_np = x_test.to_numpy()\n",
    "\n",
    "        # Run a single experiment on this fold\n",
    "        accuracy, auc = run_single_experiment(x_train_np, y_train, x_test_np, y_test, variable_names, nr_clus, clustering_method, mf_shape, consequent_method, merge_threshold, m, covariance_type, optimal_decision_threshold)\n",
    "\n",
    "        # Append the results\n",
    "        accuracies.append(accuracy)\n",
    "        aucs.append(auc)\n",
    "\n",
    "    # Calculate statistics\n",
    "    mean_accuracy = np.mean(accuracies)\n",
    "    mean_auc = np.mean(aucs)\n",
    "    std_accuracy = np.std(accuracies)\n",
    "    std_auc = np.std(aucs)\n",
    "\n",
    "    return accuracies, aucs, mean_accuracy, mean_auc, std_accuracy, std_auc\n",
    "\n",
    "\n",
    "# Run the cross-validation\n",
    "\n",
    "# Assuming df is your dataframe already loaded and contains 'target' column\n",
    "variable_names = train_df.columns[:-1]  # Exclude 'target'\n",
    "\n",
    "# Run 10-fold cross-validation\n",
    "accuracies, aucs, mean_accuracy, mean_auc, std_accuracy, std_auc = run_cross_validation(\n",
    "    train_df,\n",
    "    variable_names,\n",
    "    sample_size=sample_size,\n",
    "    nr_clus=nr_clus,\n",
    "    clustering_method=clustering_method,\n",
    "    mf_shape=mf_shape,\n",
    "    consequent_method=consequent_method,\n",
    "    merge_threshold=merge_threshold,\n",
    "    m=m,\n",
    "    covariance_type=covariance_type,\n",
    "    random_state=random_state\n",
    ")\n",
    "\n",
    "# Print the results\n",
    "print(f\"Accuracies: {accuracies}\")\n",
    "print(f\"AUCs: {aucs}\")\n",
    "print(f\"Mean Accuracy: {mean_accuracy}\")\n",
    "print(f\"Mean AUC: {mean_auc}\")\n",
    "print(f\"Standard Deviation of Accuracy: {std_accuracy}\")\n",
    "print(f\"Standard Deviation of AUC: {std_auc}\")"
   ]
  },
  {
   "cell_type": "code",
   "execution_count": 5,
   "metadata": {},
   "outputs": [
    {
     "name": "stdout",
     "output_type": "stream",
     "text": [
      "Results saved to 'model_training/cross_validation_results.pkl'\n"
     ]
    }
   ],
   "source": [
    "# export results for later analysis\n",
    "\n",
    "# Convert results to a dictionary\n",
    "cv_results_dict = {\n",
    "    \"Accuracies\": accuracies,\n",
    "    \"AUCs\": aucs,\n",
    "    \"Mean Accuracy\": mean_accuracy,\n",
    "    \"Mean AUC\": mean_auc,\n",
    "    \"Standard Deviation of Accuracy\": std_accuracy,\n",
    "    \"Standard Deviation of AUC\": std_auc\n",
    "}\n",
    "\n",
    "# Save the dictionary as a .pkl file\n",
    "with open('model_training/cross_validation_results.pkl', 'wb') as f:\n",
    "    pickle.dump(cv_results_dict, f)\n",
    "\n",
    "print(\"Results saved to 'model_training/cross_validation_results.pkl'\")"
   ]
  }
 ],
 "metadata": {
  "kernelspec": {
   "display_name": "FRP31110",
   "language": "python",
   "name": "python3"
  },
  "language_info": {
   "codemirror_mode": {
    "name": "ipython",
    "version": 3
   },
   "file_extension": ".py",
   "mimetype": "text/x-python",
   "name": "python",
   "nbconvert_exporter": "python",
   "pygments_lexer": "ipython3",
   "version": "3.11.10"
  }
 },
 "nbformat": 4,
 "nbformat_minor": 4
}
